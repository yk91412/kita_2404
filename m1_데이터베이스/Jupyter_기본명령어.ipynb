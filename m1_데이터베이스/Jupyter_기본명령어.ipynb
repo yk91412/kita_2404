{
 "cells": [
  {
   "cell_type": "code",
   "execution_count": 1,
   "id": "c854f5bd-3197-4034-96f2-9f45a8220b7c",
   "metadata": {},
   "outputs": [
    {
     "name": "stdout",
     "output_type": "stream",
     "text": [
      "Python 3.10.14\n"
     ]
    }
   ],
   "source": [
    "!python --version"
   ]
  },
  {
   "cell_type": "code",
   "execution_count": 2,
   "id": "65d04bda-6f1c-4cb0-a782-8b10c4af8ef1",
   "metadata": {},
   "outputs": [
    {
     "name": "stdout",
     "output_type": "stream",
     "text": [
      "C:\\Users\\Administrator\\anaconda3\\envs\\myenv\\python.exe\n",
      "C:\\Users\\Administrator\\anaconda3\\python.exe\n",
      "C:\\Users\\Administrator\\AppData\\Local\\Microsoft\\WindowsApps\\python.exe\n"
     ]
    }
   ],
   "source": [
    "!where python"
   ]
  },
  {
   "cell_type": "code",
   "execution_count": 3,
   "id": "8763903e-7e40-40f5-aa9a-28c4dec757a7",
   "metadata": {},
   "outputs": [
    {
     "data": {
      "text/plain": [
       "'C:\\\\Users\\\\Administrator\\\\kita'"
      ]
     },
     "execution_count": 3,
     "metadata": {},
     "output_type": "execute_result"
    }
   ],
   "source": [
    "%pwd\n",
    "# 현재파일 위치\n",
    "# 리눅스 명령어지만 매직 명령어를 사용하여 사용가능\n",
    "# 'C:\\\\Users\\\\Administrator\\\\kita' -> 이스케이프 처리가 되어있으므로 \\하나를 삭제한다"
   ]
  },
  {
   "cell_type": "code",
   "execution_count": 4,
   "id": "a6554e45-90b8-4ce2-a458-f08c42cfa65a",
   "metadata": {},
   "outputs": [
    {
     "name": "stdout",
     "output_type": "stream",
     "text": [
      " C 드라이브의 볼륨에는 이름이 없습니다.\n",
      " 볼륨 일련 번호: C672-E692\n",
      "\n",
      " C:\\Users\\Administrator\\kita 디렉터리\n",
      "\n",
      "2024-05-24  오후 05:20    <DIR>          .\n",
      "2024-05-24  오후 05:20    <DIR>          ..\n",
      "2024-05-24  오후 05:14    <DIR>          .ipynb_checkpoints\n",
      "2024-05-24  오후 05:20             1,792 Untitled.ipynb\n",
      "               1개 파일               1,792 바이트\n",
      "               3개 디렉터리  174,057,881,600 바이트 남음\n"
     ]
    }
   ],
   "source": [
    "!dir"
   ]
  },
  {
   "cell_type": "code",
   "execution_count": 6,
   "id": "83e06039-efd3-49b6-a275-927c2d773e39",
   "metadata": {},
   "outputs": [
    {
     "name": "stdout",
     "output_type": "stream",
     "text": [
      " C 드라이브의 볼륨에는 이름이 없습니다.\n",
      " 볼륨 일련 번호: C672-E692\n",
      "\n",
      " C:\\Users\\Administrator\\kita 디렉터리\n",
      "\n",
      "2024-05-24  오후 05:22    <DIR>          .\n",
      "2024-05-24  오후 05:22    <DIR>          ..\n",
      "2024-05-24  오후 05:14    <DIR>          .ipynb_checkpoints\n",
      "2024-05-24  오후 05:22             2,918 Untitled.ipynb\n",
      "               1개 파일               2,918 바이트\n",
      "               3개 디렉터리  174,057,897,984 바이트 남음\n"
     ]
    }
   ],
   "source": [
    "# !ls -> 사용불가\n",
    "# 리눅스 명령어지만 매직 명령어를 사용하여 사용가능\n",
    "%ls"
   ]
  },
  {
   "cell_type": "markdown",
   "id": "f9a7f054-cf3a-42ab-97f1-2533dd254320",
   "metadata": {},
   "source": [
    "#### !ls vs %ls\n",
    "- !ls는 UNIX 계열 시스템에서 셸 명령어 ls를 실행하여 현재 작업 디렉토리의 파일과 디렉토리를 나열\n",
    "- Windows에서는 ls 대신 dir 명령어를 사용 (!dir).\n",
    "- %ls는 IPython에서 제공하는 매직 명령어로, 파일 및 디렉토리 목록을 표시. 이는 운영 체제에 관계없이 동일한 방식으로 작동"
   ]
  },
  {
   "cell_type": "code",
   "execution_count": null,
   "id": "8541c6c4-3fc2-4c5c-9483-4c7ca19ead2c",
   "metadata": {},
   "outputs": [],
   "source": [
    "# shift+enter 코드 실행 및 셀 새로 추가\n",
    "# esc+b 셀 추가"
   ]
  },
  {
   "cell_type": "code",
   "execution_count": 11,
   "id": "6ea0a607-9ffc-4c95-b297-aea3a6179927",
   "metadata": {},
   "outputs": [
    {
     "name": "stdout",
     "output_type": "stream",
     "text": [
      " C 드라이브의 볼륨에는 이름이 없습니다.\n",
      " 볼륨 일련 번호: C672-E692\n",
      "\n",
      " C:\\Users\\Administrator\\kita 디렉터리\n",
      "\n",
      "2024-05-24  오후 05:27    <DIR>          .\n",
      "2024-05-24  오후 05:27    <DIR>          ..\n",
      "2024-05-24  오후 05:14    <DIR>          .ipynb_checkpoints\n",
      "2024-05-24  오후 05:27             5,161 Untitled.ipynb\n",
      "               1개 파일               5,161 바이트\n",
      "               3개 디렉터리  174,057,443,328 바이트 남음\n",
      " C 드라이브의 볼륨에는 이름이 없습니다.\n",
      " 볼륨 일련 번호: C672-E692\n",
      "\n",
      " C:\\Users\\Administrator\\kita 디렉터리\n",
      "\n",
      "2024-05-24  오후 05:27    <DIR>          .\n",
      "2024-05-24  오후 05:27    <DIR>          ..\n",
      "2024-05-24  오후 05:14    <DIR>          .ipynb_checkpoints\n",
      "2024-05-24  오후 05:27             5,161 Untitled.ipynb\n",
      "               1개 파일               5,161 바이트\n",
      "               3개 디렉터리  174,057,394,176 바이트 남음\n"
     ]
    }
   ],
   "source": [
    "!dir C:\\Users\\Administrator\\kita\n",
    "%ls C:\\Users\\Administrator\\kita"
   ]
  },
  {
   "cell_type": "code",
   "execution_count": 15,
   "id": "d4b20ee4-fd8c-44da-921b-f61100f984f9",
   "metadata": {},
   "outputs": [],
   "source": [
    "# 새 파일 생성 및 쓰기\n",
    "with open('example.txt','w') as file:\n",
    "    file.write('This is an example file.')"
   ]
  },
  {
   "cell_type": "code",
   "execution_count": 16,
   "id": "cf710acf-33c8-4b74-b676-84d85001fb65",
   "metadata": {},
   "outputs": [
    {
     "name": "stdout",
     "output_type": "stream",
     "text": [
      "This is an example file.\n"
     ]
    }
   ],
   "source": [
    "# 파일읽기\n",
    "with open('example.txt','r') as file:\n",
    "    txt = file.read()\n",
    "    print(txt)"
   ]
  },
  {
   "cell_type": "code",
   "execution_count": 17,
   "id": "568e3a7c-78de-4bcf-ba76-473d70a61e94",
   "metadata": {},
   "outputs": [],
   "source": [
    "# 파일 삭제\n",
    "!del example.txt"
   ]
  },
  {
   "cell_type": "code",
   "execution_count": 18,
   "id": "b3456d8a-2f14-4866-83fe-4a564c77ab41",
   "metadata": {},
   "outputs": [],
   "source": [
    "# 디렉토리 생성\n",
    "!mkdir test_dir"
   ]
  },
  {
   "cell_type": "code",
   "execution_count": 19,
   "id": "703a0879-7e83-48e5-9947-6b7a27e1d759",
   "metadata": {},
   "outputs": [
    {
     "name": "stdout",
     "output_type": "stream",
     "text": [
      "C:\\Users\\Administrator\\kita\\test_dir\n"
     ]
    },
    {
     "name": "stderr",
     "output_type": "stream",
     "text": [
      "C:\\Users\\Administrator\\anaconda3\\envs\\myenv\\lib\\site-packages\\IPython\\core\\magics\\osm.py:417: UserWarning: using dhist requires you to install the `pickleshare` library.\n",
      "  self.shell.db['dhist'] = compress_dhist(dhist)[-100:]\n"
     ]
    },
    {
     "data": {
      "text/plain": [
       "'C:\\\\Users\\\\Administrator\\\\kita\\\\test_dir'"
      ]
     },
     "execution_count": 19,
     "metadata": {},
     "output_type": "execute_result"
    }
   ],
   "source": [
    "# 디렉토리 이동\n",
    "%cd test_dir\n",
    "%pwd"
   ]
  },
  {
   "cell_type": "code",
   "execution_count": 20,
   "id": "5e89f81c-d938-47df-8d6e-c5b73bb050db",
   "metadata": {},
   "outputs": [
    {
     "name": "stdout",
     "output_type": "stream",
     "text": [
      "Collecting pickleshare\n",
      "  Downloading pickleshare-0.7.5-py2.py3-none-any.whl.metadata (1.5 kB)\n",
      "Downloading pickleshare-0.7.5-py2.py3-none-any.whl (6.9 kB)\n",
      "Installing collected packages: pickleshare\n",
      "Successfully installed pickleshare-0.7.5\n"
     ]
    }
   ],
   "source": [
    "!pip install pickleshare"
   ]
  },
  {
   "cell_type": "code",
   "execution_count": 21,
   "id": "10c88ad3-f535-4455-b70b-bc377b8a0188",
   "metadata": {},
   "outputs": [],
   "source": [
    "with open('new_example.txt','w') as file:\n",
    "    file.write('This is an new example file.')"
   ]
  },
  {
   "cell_type": "code",
   "execution_count": 22,
   "id": "316efc54-f022-4b70-af36-64b3c3be5043",
   "metadata": {},
   "outputs": [
    {
     "name": "stdout",
     "output_type": "stream",
     "text": [
      "This is an new example file.\n"
     ]
    }
   ],
   "source": [
    "with open('new_example.txt','r') as file:\n",
    "    txt = file.read()\n",
    "    print(txt)"
   ]
  },
  {
   "cell_type": "code",
   "execution_count": 23,
   "id": "c12edc98-abb5-4180-902d-827f714cff14",
   "metadata": {},
   "outputs": [
    {
     "name": "stdout",
     "output_type": "stream",
     "text": [
      "C:\\Users\\Administrator\\kita\n"
     ]
    },
    {
     "data": {
      "text/plain": [
       "'C:\\\\Users\\\\Administrator\\\\kita'"
      ]
     },
     "execution_count": 23,
     "metadata": {},
     "output_type": "execute_result"
    }
   ],
   "source": [
    "# 상위폴더로 이동\n",
    "%cd ..\n",
    "%pwd"
   ]
  },
  {
   "cell_type": "code",
   "execution_count": 24,
   "id": "0c3abe2b-9b87-474d-bacc-417b3a7eada6",
   "metadata": {},
   "outputs": [],
   "source": [
    "# 디렉토리와 그 안의 모든 파일 삭제\n",
    "# /S 옵션 : test_dir 안에 있는 모든 파일과 서브디렉토리를 삭제\n",
    "# /Q 옵션 : 디렛토리 삭제하기 전에 사용자에게 확인 메시지를 묻지 않고 바로 삭제\n",
    "!rmdir /S /Q test_dir"
   ]
  },
  {
   "cell_type": "code",
   "execution_count": 25,
   "id": "c4510f41-c631-4ea1-bceb-828dfad7fbdf",
   "metadata": {},
   "outputs": [],
   "source": [
    "with open('example.txt','w') as file:\n",
    "    file.write('This is an example file.')"
   ]
  },
  {
   "cell_type": "code",
   "execution_count": 26,
   "id": "df0f832f-bcd1-4fa3-875a-055a57d57a11",
   "metadata": {},
   "outputs": [
    {
     "name": "stdout",
     "output_type": "stream",
     "text": [
      "        1개 파일을 이동했습니다.\n"
     ]
    }
   ],
   "source": [
    "# 파일 이름 변경\n",
    "!move example.txt new_example.txt"
   ]
  },
  {
   "cell_type": "code",
   "execution_count": 27,
   "id": "b70f28bf-7cc1-423d-956e-ea05d3dfe591",
   "metadata": {},
   "outputs": [],
   "source": [
    "!mkdir test_dir"
   ]
  },
  {
   "cell_type": "code",
   "execution_count": 29,
   "id": "ffe171fb-2e5e-4952-912a-aa05bd567543",
   "metadata": {},
   "outputs": [
    {
     "name": "stdout",
     "output_type": "stream",
     "text": [
      "지정된 경로를 찾을 수 없습니다.\n"
     ]
    }
   ],
   "source": [
    "# 파일 복사\n",
    "!copy new_example.txt.\\test_dir\\copy_example.txt"
   ]
  },
  {
   "cell_type": "code",
   "execution_count": 30,
   "id": "42b96a26-3095-4f4f-8fd5-c585b579cccb",
   "metadata": {},
   "outputs": [],
   "source": [
    "with open('name.txt','w') as file:\n",
    "    file.write('my name is \"홍길동\"')"
   ]
  },
  {
   "cell_type": "code",
   "execution_count": 31,
   "id": "06b5c47f-0682-4b60-856e-d2bbf5b464af",
   "metadata": {},
   "outputs": [
    {
     "name": "stdout",
     "output_type": "stream",
     "text": [
      "my name is \"홍길동\"\n"
     ]
    }
   ],
   "source": [
    "with open('name.txt','r') as file:\n",
    "    my = file.read()\n",
    "    print(my)"
   ]
  },
  {
   "cell_type": "code",
   "execution_count": 32,
   "id": "595fc9f6-fee1-4962-9487-3add6c1355fd",
   "metadata": {},
   "outputs": [
    {
     "name": "stdout",
     "output_type": "stream",
     "text": [
      "        1개 파일을 이동했습니다.\n"
     ]
    }
   ],
   "source": [
    "!move name.txt my_name.txt"
   ]
  }
 ],
 "metadata": {
  "kernelspec": {
   "display_name": "Python 3 (ipykernel)",
   "language": "python",
   "name": "python3"
  },
  "language_info": {
   "codemirror_mode": {
    "name": "ipython",
    "version": 3
   },
   "file_extension": ".py",
   "mimetype": "text/x-python",
   "name": "python",
   "nbconvert_exporter": "python",
   "pygments_lexer": "ipython3",
   "version": "3.10.14"
  }
 },
 "nbformat": 4,
 "nbformat_minor": 5
}
