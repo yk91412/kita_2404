{
  "nbformat": 4,
  "nbformat_minor": 0,
  "metadata": {
    "colab": {
      "provenance": []
    },
    "kernelspec": {
      "name": "python3",
      "display_name": "Python 3"
    },
    "language_info": {
      "name": "python"
    }
  },
  "cells": [
    {
      "cell_type": "markdown",
      "source": [
        "#### 파이썬 이란\n",
        "- 1990년 암스테르담의 귀도 반 로섬(Guido Van Rossum)이 개발한 인터프리터 언어\n",
        "- 컴퓨터 프로그래밍 교육을 위해 많이 사용하지만, 기업의 실무를 위해서도 많이 사용하는 언어. 구글에서 만든 소프트웨어의 50%이상이 파이썬으로 작성\n",
        "\n",
        "#### 파이썬의 특징\n",
        "- 파이썬은 인간다운 언어이다\n",
        "- 파이썬은 문법이 쉬워 빠르게 배울 수 있다\n",
        "- 파이썬은 무료이지만 강력하다\n",
        "- 파이썬은 간결하다\n",
        "- 파이썬은 프로그래밍을 즐기게 해준다\n",
        "- 파이썬은 개발 속도가 빠르다\n",
        "\n",
        "#### 파이썬으로 할 수 있는 일\n",
        "- 웹 개발: Django, Flask 등의 프레임워크를 사용하여 웹 애플리케이션을 개발할 수 있습니다.\n",
        "- 데이터 분석: Pandas, NumPy, SciPy와 같은 라이브러리를 사용하여 데이터를 분석하고 처리할 수 있습니다.\n",
        "- 머신 러닝과 인공지능: TensorFlow, PyTorch, Scikit-learn 등의 라이브러리를 활용하여 머신 러닝 모델을 구축하고 훈련시킬 수 있습니다.\n",
        "- 자동화: 파이썬 스크립트를 작성하여 일상적인 작업을 자동화하고, 시스템 관리 작업을 수행할 수 있습니다.\n",
        "- 게임 개발: Pygame과 같은 라이브러리를 사용하여 간단한 게임을 개발할 수 있습니다.\n",
        "- 모바일 애플리케이션 개발: Kivy 또는 BeeWare와 같은 라이브러리를 사용하여 모바일 애플리케이션을 개발할 수 있습니다.\n",
        "- 데스크탑 애플리케이션 개발: PyQt, Tkinter 등의 라이브러리를 활용하여 데스크탑 애플리케이션을 개발할 수 있습니다.\n",
        "- 시스템 스크립팅과 네트워킹: 시스템 유틸리티를 개발하거나 네트워크 프로토콜을 구현할 수 있습니다.\n",
        "- 임베디드 시스템과 하드웨어 제어: 라즈베리 파이와 같은 임베디드 시스템을 제어하고 하드웨어를 프로그래밍할 수 있습니다.\n",
        "- 사이언티픽 컴퓨팅: 과학적 연산과 시뮬레이션을 위해 파이썬을 활용할 수 있습니다.\n",
        "- 교육: 파이썬은 초보자에게 프로그래밍을 가르치는 데 이상적인 언어로 평가받고 있습니다.\n",
        "- 파이썬의 다양한 라이브러리와 프레임워크 덕분에, 이러한 분야에서의 작업이 더욱 쉽고 효율적으로 수행될 수 있습니다."
      ],
      "metadata": {
        "id": "Pw1U78ON74QN"
      }
    },
    {
      "cell_type": "code",
      "execution_count": null,
      "metadata": {
        "colab": {
          "base_uri": "https://localhost:8080/"
        },
        "id": "9q5A8rrh7T2b",
        "outputId": "8888794e-206f-4b5b-e720-53644490363b"
      },
      "outputs": [
        {
          "output_type": "stream",
          "name": "stdout",
          "text": [
            "Python 3.10.12\n"
          ]
        }
      ],
      "source": [
        "# ! 기호는 Colab셀에서 Unix/Linux 셸 명령어를 실행\n",
        "!python --version"
      ]
    },
    {
      "cell_type": "code",
      "source": [
        "# %기호는 IPython 환경(즉, Colab이 포함된 Jupyter 환경)에서 제공하는 매직 명령어를 사용\n",
        "# 라인 매직은 단일 라인에 대해 실행되며 %하나를 사용하고 셀 매직은 셀 전체에 적용되며 %%를 사용\n",
        "# 현재 작업폴더 확인\n",
        "%pwd"
      ],
      "metadata": {
        "colab": {
          "base_uri": "https://localhost:8080/",
          "height": 35
        },
        "id": "wbX_J-7sBeDV",
        "outputId": "91900b66-9241-4eb4-8a67-605690cccd8f"
      },
      "execution_count": null,
      "outputs": [
        {
          "output_type": "execute_result",
          "data": {
            "text/plain": [
              "'/content'"
            ],
            "application/vnd.google.colaboratory.intrinsic+json": {
              "type": "string"
            }
          },
          "metadata": {},
          "execution_count": 5
        }
      ]
    },
    {
      "cell_type": "code",
      "source": [
        "%%time\n",
        "# 간단한 for 루프를 사용한 계산\n",
        "sum = 0\n",
        "for i in range(100000):\n",
        "    sum+=i\n",
        "print(sum)"
      ],
      "metadata": {
        "colab": {
          "base_uri": "https://localhost:8080/"
        },
        "id": "A79JLozUCbrB",
        "outputId": "6c661318-ffaf-4279-ec3b-ee821f8c6d48"
      },
      "execution_count": null,
      "outputs": [
        {
          "output_type": "stream",
          "name": "stdout",
          "text": [
            "4999950000\n",
            "CPU times: user 27.3 ms, sys: 0 ns, total: 27.3 ms\n",
            "Wall time: 37.8 ms\n"
          ]
        }
      ]
    },
    {
      "cell_type": "markdown",
      "source": [
        "#### 용어\n",
        "- 식별자 : 프로그램밍 언어에서 이름을 붙일 때 사용하는 단어. 주로 변수 또는 함수 이름 등으로 사용\n",
        "- 주석 : 프로그램을 설명하기 위해 사용. # 기호로 주석 처리\n",
        "- 연산자 : 스스로 값이 되는 것이 아니고 값과 값 사이에 무언가 기능을 적용할 때 사용\n",
        "- 자료 : 리터럴이라고 하는데 숫자이든 문자이든 어떠한 값 자체를 의미. 1, 10, \"Hello\"\n",
        "- 키워드 : 파이썬이 만들어질 때 이미 사용하겠다고 예약해 놓는 것. False, None, True, ...\n",
        "- 프로그램밍 언어에서 사용자가 이름을 정할 때 키워드는 사용할 수 없음\n",
        "\n",
        "#### 식별자\n",
        "count, user_name, _is_valid, calculate_area, Car, model, year, math 및 m 모두 유효한 식별자. 각각의 식별자는 특정한 데이터 또는 기능에 이름을 부여하여 코드 내에서 해당 데이터나 기능을 참조할 수 있게하며 코드의 가독성과 유지 보수성을 높이는 데 중요한 역할"
      ],
      "metadata": {
        "id": "My7mUeNqDWKO"
      }
    },
    {
      "cell_type": "code",
      "source": [
        "# 변수식별자\n",
        "count = 19\n",
        "user_name = \"Alice\"\n",
        "_is_valid = True\n",
        "\n",
        "# 함수식별자\n",
        "def calculate_area(radius):\n",
        "    return 3.1459 * radius * radius\n",
        "\n",
        "# 클래스 식별자\n",
        "class Car :\n",
        "    def __init__(self,medel,year):\n",
        "        self.model = model\n",
        "        self.year = year\n",
        "\n",
        "# 모듈 식별자\n",
        "import math as m"
      ],
      "metadata": {
        "id": "curyH6TKDXCH"
      },
      "execution_count": null,
      "outputs": []
    },
    {
      "cell_type": "markdown",
      "source": [
        "####식별자 기본 규칙\n",
        "- 키워드를 사용하면 안된다\n",
        "- 특수문자는 언더 바(_)만 사용\n",
        "- 숫자로 시작하면 안된다\n",
        "- 공백을 포함할 수 없다"
      ],
      "metadata": {
        "id": "_DAI09GiIOI3"
      }
    },
    {
      "cell_type": "code",
      "source": [
        "import keyword\n",
        "print(keyword.kwlist,'\\n')\n",
        "print(len(keyword.kwlist))\n"
      ],
      "metadata": {
        "colab": {
          "base_uri": "https://localhost:8080/"
        },
        "id": "-CmMbVtcIa-p",
        "outputId": "ab04a02b-7747-44fd-aac2-5f584e2e3002"
      },
      "execution_count": null,
      "outputs": [
        {
          "output_type": "stream",
          "name": "stdout",
          "text": [
            "['False', 'None', 'True', 'and', 'as', 'assert', 'async', 'await', 'break', 'class', 'continue', 'def', 'del', 'elif', 'else', 'except', 'finally', 'for', 'from', 'global', 'if', 'import', 'in', 'is', 'lambda', 'nonlocal', 'not', 'or', 'pass', 'raise', 'return', 'try', 'while', 'with', 'yield'] \n",
            "\n",
            "35\n"
          ]
        }
      ]
    },
    {
      "cell_type": "code",
      "source": [
        "# 주어진 문자열 리스트에서 유효한 Python 변수 이름만을 추출하여 반환하는 함수를 작성하세요\n",
        "identifiers = [\"var1\",\"2thins\",\"variable_name\",\"time!\"]\n"
      ],
      "metadata": {
        "id": "m6iITEGBJfCO"
      },
      "execution_count": null,
      "outputs": []
    },
    {
      "cell_type": "code",
      "source": [
        "# 1.알파벳이 맞는지 확인: isalpha\n",
        "# 2. 숫자가 맞는지 확인   : isdigit,isnumeric\n",
        "# 3. 공백이 맞는지 확인   : isspace\n",
        "# 특수문자는 알파벳 숫자 공백을 제외하고\n",
        "\n",
        "def vaild_name(name):\n",
        "    for i in name:\n",
        "        if i[0].isalpha() and (i[-1].isnumeric() or i[-1].isalpha()) :\n",
        "            print(i)\n",
        "\n",
        "identifiers = [\"var1\",\"2thins\",\"variable_name\",\"time!\"]\n",
        "vaild_name(identifiers)\n"
      ],
      "metadata": {
        "colab": {
          "base_uri": "https://localhost:8080/"
        },
        "id": "NeXpYx99P4O4",
        "outputId": "a4427d72-94e6-4c3a-820c-68d5d32d5b3e"
      },
      "execution_count": null,
      "outputs": [
        {
          "output_type": "stream",
          "name": "stdout",
          "text": [
            "var1\n",
            "variable_name\n"
          ]
        }
      ]
    },
    {
      "cell_type": "code",
      "source": [
        "identifiers = [\"var1\",\"2thins\",\"variable_name\",\"time!\"]\n",
        "\n",
        "\n",
        "for i in identifiers:\n",
        "    for j in i[0]:\n",
        "       if j.isalpha():\n",
        "            print(j)\n",
        "\n",
        "# 첫글자가 영어인 경우"
      ],
      "metadata": {
        "colab": {
          "base_uri": "https://localhost:8080/"
        },
        "id": "gS4g02IPLGZH",
        "outputId": "c29bb2b9-505b-4ddc-83e6-c21de32437b1"
      },
      "execution_count": null,
      "outputs": [
        {
          "output_type": "stream",
          "name": "stdout",
          "text": [
            "v\n",
            "v\n",
            "t\n"
          ]
        }
      ]
    },
    {
      "cell_type": "code",
      "source": [
        "for i in identifiers:\n",
        "    for j in i[0]:\n",
        "       if j.isalpha():\n",
        "            print(j)\n",
        "    for k in i[-1]:\n",
        "        if k.isnumeric() or k.isalpha():\n",
        "            print(k)\n",
        "\n",
        "# 첫글자가 영어이고 / 끝글자가 영어이거나 숫자인 인덱스값 반환\n"
      ],
      "metadata": {
        "colab": {
          "base_uri": "https://localhost:8080/"
        },
        "id": "124r0_vwNX2M",
        "outputId": "1856a393-56d5-4ceb-db01-343cc575a18d"
      },
      "execution_count": null,
      "outputs": [
        {
          "output_type": "stream",
          "name": "stdout",
          "text": [
            "v\n",
            "1\n",
            "s\n",
            "v\n",
            "e\n",
            "t\n"
          ]
        }
      ]
    }
  ]
}