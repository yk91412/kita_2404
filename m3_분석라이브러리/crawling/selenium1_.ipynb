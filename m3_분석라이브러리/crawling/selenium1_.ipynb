{
 "cells": [
  {
   "cell_type": "markdown",
   "metadata": {},
   "source": [
    "#### 셀레니움 함수\n",
    "\n",
    "- https://goodthings4me.tistory.com/696\n",
    "\n",
    "- from selenium.webdriver.common.by import By\n",
    "\n",
    "- find_element(By.ID, \" \"): id 속성을 사용하여 접근\n",
    "- find_element(s)(By.CLASS_NAME, \" \"): 클래스를 사용하여 접근\n",
    "- find_element(s)(By.NAME, \" \"): name 속성을 사용하여 접근\n",
    "- find_element(s)(By.XPATH, \" \"): xpath 속성을 사용하여 접근\n",
    "- find_element(s)(By.LINK_TEXT, \" \"): 앵커태그(a 태그)에 사용되는 텍스트로 접근\n",
    "- find_element(s)(By.PARTIAL_LINK_TEXT, \" \"): 앵커태그(a 태그)에 사용되는 일부 텍스트로 접근\n",
    "- find_element(s)(By.TAG_NAME, \" \"): 태그를 사용하여 접근\n",
    "- find_element(s)(By.CSS_SELECTOR, \" \"): CSS 선택자를 사용하여 접근<br><br>\n",
    "셀레니움 사용법 : https://greeksharifa.github.io/references/2020/10/30/python-selenium-usage/ "
   ]
  },
  {
   "cell_type": "code",
   "execution_count": 3,
   "metadata": {},
   "outputs": [],
   "source": [
    "import selenium\n",
    "from selenium import webdriver\n",
    "from selenium.webdriver.common.keys import Keys\n",
    "from selenium.webdriver.common.by import By\n",
    "import time\n",
    "driver = webdriver.Chrome()\n",
    "url = 'https://naver.com'\n",
    "driver.get(url)\n",
    "time.sleep(1)"
   ]
  },
  {
   "cell_type": "code",
   "execution_count": 4,
   "metadata": {},
   "outputs": [
    {
     "name": "stdout",
     "output_type": "stream",
     "text": [
      "https://www.naver.com/\n"
     ]
    }
   ],
   "source": [
    "print(driver.current_url)\n",
    "driver.close()"
   ]
  },
  {
   "cell_type": "code",
   "execution_count": 7,
   "metadata": {},
   "outputs": [
    {
     "name": "stdout",
     "output_type": "stream",
     "text": [
      "https://www.google.com/\n"
     ]
    }
   ],
   "source": [
    "# 브라우저 창을 띄우지 않고 수행\n",
    "options = webdriver.ChromeOptions()\n",
    "options.add_argument('headless')\n",
    "driver = webdriver.Chrome(options=options)\n",
    "driver.get('https://google.com')\n",
    "print(driver.current_url)\n",
    "driver.close()"
   ]
  },
  {
   "cell_type": "markdown",
   "metadata": {},
   "source": [
    "- driver.close() : 현재 활성화된 탭이나 창을 닫습니다. 브라우저 세션은 계속 유지\n",
    "- driver.quit() : 모든 열려 있는 탭과 창을 닫고, 브라우저 세션을 종료합니다. WebDriver 인스턴스가 완전히 종료"
   ]
  },
  {
   "cell_type": "code",
   "execution_count": 9,
   "metadata": {},
   "outputs": [
    {
     "name": "stdout",
     "output_type": "stream",
     "text": [
      "Element Found: 검색\n"
     ]
    }
   ],
   "source": [
    "# Implicit Waits(암묵적 대기) : 찾으려는 element가 로드될 때까지 지정한 시간만큼 대기할 수 있도록 설정\n",
    "# BY 클래스는 selenium 에서 HTML 요소를 찾기 위한 다양한 방법을 제공\n",
    "# webDriverwait 클래스는 특정 조건이 충족될 때까지 대기하는 기능\n",
    "# expected_conditions 모듈은 여러 가지 조건을 미리 정의하여 특정 요소가 나타나거나 특정 상태가 될 때까지 기다릴 수 있도록 함\n",
    "\n",
    "from selenium.webdriver.common.by import By\n",
    "from selenium.webdriver.support.ui import WebDriverWait\n",
    "from selenium.webdriver.support import expected_conditions as EC \n",
    "\n",
    "driver = webdriver.Chrome()\n",
    "driver.get(url='https://www.google.com')\n",
    "\n",
    "try:\n",
    "    element = WebDriverWait(driver,5).until(\n",
    "        EC.presence_of_element_located((By.CLASS_NAME, 'gLFyf'))\n",
    "    )\n",
    "    # 요소가 존재하면 텍스트 출력(이 경우에는 입력창이므로 text가 없을 수 있음)\n",
    "    print(\"Element Found:\", element.get_attribute('title'))\n",
    "except Exception as e:\n",
    "    # 예외 발생 시 새 메시지 출력\n",
    "    print('An error occurred:',e)\n",
    "# finally:\n",
    "#     driver.quit() # 세션 종료"
   ]
  },
  {
   "cell_type": "code",
   "execution_count": 30,
   "metadata": {},
   "outputs": [],
   "source": [
    "from selenium import webdriver\n",
    "from selenium.webdriver.chrome.options import Options\n",
    "from selenium.webdriver.common.by import By\n",
    "\n",
    "# Chrome 옵션 설정\n",
    "options = Options()\n",
    "options.add_argument('--start-maximized') #브라우저를 최대화된 상태로 시작하도록 설정\n",
    "options.add_experimental_option('detach',True) # 스크립트가 종료된 후에도 브라우저가 닫히지 않도록 설정\n",
    "\n",
    "# webdriver 실행\n",
    "driver = webdriver.Chrome(options=options)\n",
    "\n",
    "# 구글 웹사이트 열기\n",
    "driver.get('https://www.google.com')"
   ]
  },
  {
   "cell_type": "code",
   "execution_count": null,
   "metadata": {},
   "outputs": [],
   "source": [
    "\"\"\"\n",
    "<textarea class=\"gLFyf\" aria-controls=\"Alh6id\" aria-owns=\"Alh6id\" autofocus=\"\" title=\"검색\" value=\"\" jsaction=\"paste:puy29d;\" aria-label=\"검색\" \n",
    "aria-autocomplete=\"both\" aria-expanded=\"false\" aria-haspopup=\"false\" autocapitalize=\"off\" autocomplete=\"off\" autocorrect=\"off\" id=\"APjFqb\" \n",
    "maxlength=\"2048\" name=\"q\" role=\"combobox\" rows=\"1\" spellcheck=\"false\" data-ved=\"0ahUKEwiTqeqlquWGAxVSh68BHeVpBlkQ39UDCAY\"></textarea>\n",
    "\"\"\""
   ]
  },
  {
   "cell_type": "code",
   "execution_count": 13,
   "metadata": {},
   "outputs": [
    {
     "name": "stdout",
     "output_type": "stream",
     "text": [
      "Element found by ID: q\n"
     ]
    }
   ],
   "source": [
    "# 1.find_element(By.ID, 'id_name') : id 속성을 사용하여 접근\n",
    "try:\n",
    "    element_by_id = driver.find_element(By.ID, 'APjFqb')\n",
    "    print(\"Element found by ID:\", element_by_id.get_attribute('name'))\n",
    "except:\n",
    "    print(\"Element not found by ID\")"
   ]
  },
  {
   "cell_type": "code",
   "execution_count": 20,
   "metadata": {},
   "outputs": [
    {
     "name": "stdout",
     "output_type": "stream",
     "text": [
      "Element found by CLASS_NAME: 검색\n"
     ]
    }
   ],
   "source": [
    "# 2. find_element(By.CLASS_NAME, 'class_name') : 클래스를 사용하여 접근\n",
    "\n",
    "try:\n",
    "    element_by_class = driver.find_element(By.CLASS_NAME, 'gLFyf')\n",
    "    print(\"Element found by CLASS_NAME:\",element_by_class.get_attribute('title'))\n",
    "except:\n",
    "    print(\"Element not found by CLASS_NAME\")"
   ]
  },
  {
   "cell_type": "code",
   "execution_count": 25,
   "metadata": {},
   "outputs": [
    {
     "name": "stdout",
     "output_type": "stream",
     "text": [
      "Element found by NAME: 검색\n"
     ]
    }
   ],
   "source": [
    "# 3. find_element(By.NAME, 'name') : name 속성을 사용하여 접근\n",
    "\n",
    "try:\n",
    "    element_by_name = driver.find_element(By.NAME, 'q')\n",
    "    print(\"Element found by NAME:\", element_by_name.get_attribute('title'))\n",
    "except:\n",
    "    print(\"Element not found by NAME\")"
   ]
  },
  {
   "cell_type": "code",
   "execution_count": 40,
   "metadata": {},
   "outputs": [
    {
     "data": {
      "text/plain": [
       "'\\n<textarea class=\"gLFyf\" aria-controls=\"Alh6id\" aria-owns=\"Alh6id\" autofocus=\"\" title=\"검색\" value=\"\" jsaction=\"paste:puy29d;\" aria-label=\"검색\" \\naria-autocomplete=\"both\" aria-expanded=\"false\" aria-haspopup=\"false\" autocapitalize=\"off\" autocomplete=\"off\" autocorrect=\"off\" id=\"APjFqb\" \\nmaxlength=\"2048\" name=\"q\" role=\"combobox\" rows=\"1\" spellcheck=\"false\" data-ved=\"0ahUKEwiTqeqlquWGAxVSh68BHeVpBlkQ39UDCAY\"></textarea>\\n'"
      ]
     },
     "execution_count": 40,
     "metadata": {},
     "output_type": "execute_result"
    }
   ],
   "source": [
    "\"\"\"\n",
    "<textarea class=\"gLFyf\" aria-controls=\"Alh6id\" aria-owns=\"Alh6id\" autofocus=\"\" title=\"검색\" value=\"\" jsaction=\"paste:puy29d;\" aria-label=\"검색\" \n",
    "aria-autocomplete=\"both\" aria-expanded=\"false\" aria-haspopup=\"false\" autocapitalize=\"off\" autocomplete=\"off\" autocorrect=\"off\" id=\"APjFqb\" \n",
    "maxlength=\"2048\" name=\"q\" role=\"combobox\" rows=\"1\" spellcheck=\"false\" data-ved=\"0ahUKEwiTqeqlquWGAxVSh68BHeVpBlkQ39UDCAY\"></textarea>\n",
    "\"\"\""
   ]
  },
  {
   "cell_type": "markdown",
   "metadata": {},
   "source": [
    "Task1_0621. https://www.google.com 사이트에서 셀레니움을 이용해서 다음을 수행하세요.\n",
    "- xpath 속성을 사용하여 접근하여 요소를 추출\n",
    "- 앵커태그(a 태그)에 사용되는 텍스트로 접근하여 요소를 추출\n",
    "- 앵커태그(a 태그)에 사용되는 일부 텍스트로 접근하여 요소를 추출\n",
    "- 태그를 사용하여 접근하여 요소를 추출\n",
    "- CSS 선택자를 사용하여 접근하여 요소를 추출"
   ]
  },
  {
   "cell_type": "code",
   "execution_count": 51,
   "metadata": {},
   "outputs": [
    {
     "name": "stdout",
     "output_type": "stream",
     "text": [
      "Element found by title: 검색\n"
     ]
    }
   ],
   "source": [
    "# xpath 속성을 사용하여 요소 추출\n",
    "\n",
    "from selenium import webdriver\n",
    "from selenium.webdriver.chrome.options import Options\n",
    "from selenium.webdriver.common.by import By\n",
    "\n",
    "# webdriver 실행\n",
    "driver = webdriver.Chrome()\n",
    "\n",
    "# 구글 웹사이트 열기\n",
    "driver.get('https://www.google.com')\n",
    "\n",
    "try : \n",
    "    element_by_xpath = driver.find_element(By.XPATH, '//*[@id=\"APjFqb\"]')\n",
    "    print(\"Element found by title:\", element_by_xpath.get_attribute('title'))\n",
    "except:\n",
    "    print(\"Element not found by title\")"
   ]
  },
  {
   "cell_type": "code",
   "execution_count": 52,
   "metadata": {},
   "outputs": [
    {
     "name": "stdout",
     "output_type": "stream",
     "text": [
      "Element not found by class\n"
     ]
    }
   ],
   "source": [
    "# 앵커 태그에 사용되는 텍스트로 접근하여 요소 추출\n",
    "\n",
    "from selenium import webdriver\n",
    "from selenium.webdriver.chrome.options import Options\n",
    "from selenium.webdriver.common.by import By\n",
    "\n",
    "# webdriver 실행\n",
    "driver = webdriver.Chrome()\n",
    "\n",
    "# 구글 웹사이트 열기\n",
    "driver.get('https://www.google.com')\n",
    "\n",
    "try:\n",
    "    element_by_as = driver.find_element(By.LINK_TEXT, '')\n",
    "    print(\"Element found by class:\", element_by_as.get_attribute('class'))\n",
    "except:\n",
    "    print(\"Element not found by class\")"
   ]
  },
  {
   "cell_type": "code",
   "execution_count": 45,
   "metadata": {},
   "outputs": [
    {
     "name": "stdout",
     "output_type": "stream",
     "text": [
      "Element found by class: pHiOh\n"
     ]
    }
   ],
   "source": [
    "# 앵커 태그에 사용되는 일부 텍스트로 접근\n",
    "from selenium import webdriver\n",
    "from selenium.webdriver.chrome.options import Options\n",
    "from selenium.webdriver.common.by import By\n",
    "\n",
    "# webdriver 실행\n",
    "driver = webdriver.Chrome()\n",
    "\n",
    "# 구글 웹사이트 열기\n",
    "driver.get('https://www.google.com')\n",
    "\n",
    "\n",
    "try:\n",
    "    element_by_a = driver.find_element(By.PARTIAL_LINK_TEXT, '')\n",
    "    print(\"Element found by class:\", element_by_a.get_attribute('class'))\n",
    "except:\n",
    "    print(\"Element not found by class\")"
   ]
  },
  {
   "cell_type": "code",
   "execution_count": 49,
   "metadata": {},
   "outputs": [
    {
     "name": "stdout",
     "output_type": "stream",
     "text": [
      "Element found by title: 검색\n"
     ]
    }
   ],
   "source": [
    "# 태그를 사용하여 접근\n",
    "\n",
    "from selenium import webdriver\n",
    "from selenium.webdriver.chrome.options import Options\n",
    "from selenium.webdriver.common.by import By\n",
    "\n",
    "# webdriver 실행\n",
    "driver = webdriver.Chrome()\n",
    "\n",
    "# 구글 웹사이트 열기\n",
    "driver.get('https://www.google.com')\n",
    "\n",
    "try:\n",
    "    element_by_tag = driver.find_element(By.TAG_NAME,'textarea')\n",
    "    print('Element found by title:', element_by_tag.get_attribute('title'))\n",
    "\n",
    "except:\n",
    "    print(\"Element not found by title\")"
   ]
  },
  {
   "cell_type": "code",
   "execution_count": 48,
   "metadata": {},
   "outputs": [
    {
     "name": "stdout",
     "output_type": "stream",
     "text": [
      "Element found by name: q\n"
     ]
    }
   ],
   "source": [
    "# css 선택자를 사용하여 접근\n",
    "\n",
    "from selenium import webdriver\n",
    "from selenium.webdriver.chrome.options import Options\n",
    "from selenium.webdriver.common.by import By\n",
    "\n",
    "# webdriver 실행\n",
    "driver = webdriver.Chrome()\n",
    "\n",
    "# 구글 웹사이트 열기\n",
    "driver.get('https://www.google.com')\n",
    "\n",
    "try:\n",
    "    element_by_css = driver.find_element(By.CSS_SELECTOR,'#APjFqb')\n",
    "    print('Element found by name:', element_by_css.get_attribute('name'))\n",
    "except:\n",
    "    print(\"Element not found by name\")"
   ]
  },
  {
   "cell_type": "markdown",
   "metadata": {},
   "source": [
    "Task2_0621. 한빛 네트워크 사이트 https://www.hanbit.co.kr/ 로그인 후 마일리지 점수 가져와서 출력하세요."
   ]
  },
  {
   "cell_type": "code",
   "execution_count": 59,
   "metadata": {},
   "outputs": [
    {
     "name": "stdout",
     "output_type": "stream",
     "text": [
      "마일리지 :  2,000\n"
     ]
    }
   ],
   "source": [
    "from selenium import webdriver\n",
    "from selenium.webdriver.chrome.options import Options\n",
    "from selenium.webdriver.common.by import By\n",
    "import time\n",
    "\n",
    "# webdriver 실행\n",
    "driver = webdriver.Chrome()\n",
    "\n",
    "\n",
    "driver.get('https://www.hanbit.co.kr/member/login.html')\n",
    "\n",
    "username = driver.find_element(By.ID,'m_id')\n",
    "username.send_keys('poilkmn104')\n",
    "\n",
    "password = driver.find_element(By.ID, 'm_passwd')\n",
    "password.send_keys('handbsrud12!')\n",
    "\n",
    "login_button = driver.find_element(By.XPATH,'//*[@id=\"login_btn\"]')\n",
    "login_button.click()\n",
    "\n",
    "time.sleep(5)\n",
    "\n",
    "mypage_button = driver.find_element(By.XPATH, '//*[@id=\"wrap_nav\"]/ul[2]/li[2]/a')\n",
    "mypage_button.click()\n",
    "\n",
    "time.sleep(5)\n",
    "\n",
    "m = driver.find_element(By.CSS_SELECTOR,'.mileage_section1 > dd > span')\n",
    "print(\"마일리지 : \", m.text)\n",
    "\n",
    "\n",
    "driver.quit()\n"
   ]
  },
  {
   "cell_type": "markdown",
   "metadata": {},
   "source": [
    "Task3_0621. 네이버 로그인한 후 않읽은 메일의 개수를 가져와서 출력하세요."
   ]
  },
  {
   "cell_type": "code",
   "execution_count": 63,
   "metadata": {},
   "outputs": [
    {
     "ename": "NoSuchElementException",
     "evalue": "Message: no such element: Unable to locate element: {\"method\":\"xpath\",\"selector\":\"//*[@id=\"account\"]/div[2]/div/div/ul/li[1]/a/span[1]\"}\n  (Session info: chrome=126.0.6478.114); For documentation on this error, please visit: https://www.selenium.dev/documentation/webdriver/troubleshooting/errors#no-such-element-exception\nStacktrace:\n\tGetHandleVerifier [0x00007FF636B63E32+31618]\n\t(No symbol) [0x00007FF636ADB099]\n\t(No symbol) [0x00007FF63699888A]\n\t(No symbol) [0x00007FF6369E8524]\n\t(No symbol) [0x00007FF6369E862C]\n\t(No symbol) [0x00007FF636A2F787]\n\t(No symbol) [0x00007FF636A0D14F]\n\t(No symbol) [0x00007FF636A2CA80]\n\t(No symbol) [0x00007FF636A0CEB3]\n\t(No symbol) [0x00007FF6369DA46B]\n\t(No symbol) [0x00007FF6369DB001]\n\tGetHandleVerifier [0x00007FF636E69FFD+3202381]\n\tGetHandleVerifier [0x00007FF636EB6A1D+3516269]\n\tGetHandleVerifier [0x00007FF636EAC490+3473888]\n\tGetHandleVerifier [0x00007FF636C15D36+760454]\n\t(No symbol) [0x00007FF636AE6B3F]\n\t(No symbol) [0x00007FF636AE1CD4]\n\t(No symbol) [0x00007FF636AE1E62]\n\t(No symbol) [0x00007FF636AD120F]\n\tBaseThreadInitThunk [0x00007FFFAEFD7344+20]\n\tRtlUserThreadStart [0x00007FFFB003CC91+33]\n",
     "output_type": "error",
     "traceback": [
      "\u001b[1;31m---------------------------------------------------------------------------\u001b[0m",
      "\u001b[1;31mNoSuchElementException\u001b[0m                    Traceback (most recent call last)",
      "Cell \u001b[1;32mIn[63], line 23\u001b[0m\n\u001b[0;32m     20\u001b[0m login_button\u001b[38;5;241m.\u001b[39mclick()\n\u001b[0;32m     21\u001b[0m time\u001b[38;5;241m.\u001b[39msleep(\u001b[38;5;241m3\u001b[39m)\n\u001b[1;32m---> 23\u001b[0m mail_button \u001b[38;5;241m=\u001b[39m \u001b[43mdriver\u001b[49m\u001b[38;5;241;43m.\u001b[39;49m\u001b[43mfind_element\u001b[49m\u001b[43m(\u001b[49m\u001b[43mBy\u001b[49m\u001b[38;5;241;43m.\u001b[39;49m\u001b[43mXPATH\u001b[49m\u001b[43m,\u001b[49m\u001b[43m \u001b[49m\u001b[38;5;124;43m'\u001b[39;49m\u001b[38;5;124;43m//*[@id=\u001b[39;49m\u001b[38;5;124;43m\"\u001b[39;49m\u001b[38;5;124;43maccount\u001b[39;49m\u001b[38;5;124;43m\"\u001b[39;49m\u001b[38;5;124;43m]/div[2]/div/div/ul/li[1]/a/span[1]\u001b[39;49m\u001b[38;5;124;43m'\u001b[39;49m\u001b[43m)\u001b[49m\n\u001b[0;32m     24\u001b[0m mail_button\u001b[38;5;241m.\u001b[39mclick()\n\u001b[0;32m     25\u001b[0m time\u001b[38;5;241m.\u001b[39msleep(\u001b[38;5;241m3\u001b[39m)\n",
      "File \u001b[1;32md:\\kdt_240424\\workspace\\crawling\\myenv\\lib\\site-packages\\selenium\\webdriver\\remote\\webdriver.py:741\u001b[0m, in \u001b[0;36mWebDriver.find_element\u001b[1;34m(self, by, value)\u001b[0m\n\u001b[0;32m    738\u001b[0m     by \u001b[38;5;241m=\u001b[39m By\u001b[38;5;241m.\u001b[39mCSS_SELECTOR\n\u001b[0;32m    739\u001b[0m     value \u001b[38;5;241m=\u001b[39m \u001b[38;5;124mf\u001b[39m\u001b[38;5;124m'\u001b[39m\u001b[38;5;124m[name=\u001b[39m\u001b[38;5;124m\"\u001b[39m\u001b[38;5;132;01m{\u001b[39;00mvalue\u001b[38;5;132;01m}\u001b[39;00m\u001b[38;5;124m\"\u001b[39m\u001b[38;5;124m]\u001b[39m\u001b[38;5;124m'\u001b[39m\n\u001b[1;32m--> 741\u001b[0m \u001b[38;5;28;01mreturn\u001b[39;00m \u001b[38;5;28;43mself\u001b[39;49m\u001b[38;5;241;43m.\u001b[39;49m\u001b[43mexecute\u001b[49m\u001b[43m(\u001b[49m\u001b[43mCommand\u001b[49m\u001b[38;5;241;43m.\u001b[39;49m\u001b[43mFIND_ELEMENT\u001b[49m\u001b[43m,\u001b[49m\u001b[43m \u001b[49m\u001b[43m{\u001b[49m\u001b[38;5;124;43m\"\u001b[39;49m\u001b[38;5;124;43musing\u001b[39;49m\u001b[38;5;124;43m\"\u001b[39;49m\u001b[43m:\u001b[49m\u001b[43m \u001b[49m\u001b[43mby\u001b[49m\u001b[43m,\u001b[49m\u001b[43m \u001b[49m\u001b[38;5;124;43m\"\u001b[39;49m\u001b[38;5;124;43mvalue\u001b[39;49m\u001b[38;5;124;43m\"\u001b[39;49m\u001b[43m:\u001b[49m\u001b[43m \u001b[49m\u001b[43mvalue\u001b[49m\u001b[43m}\u001b[49m\u001b[43m)\u001b[49m[\u001b[38;5;124m\"\u001b[39m\u001b[38;5;124mvalue\u001b[39m\u001b[38;5;124m\"\u001b[39m]\n",
      "File \u001b[1;32md:\\kdt_240424\\workspace\\crawling\\myenv\\lib\\site-packages\\selenium\\webdriver\\remote\\webdriver.py:347\u001b[0m, in \u001b[0;36mWebDriver.execute\u001b[1;34m(self, driver_command, params)\u001b[0m\n\u001b[0;32m    345\u001b[0m response \u001b[38;5;241m=\u001b[39m \u001b[38;5;28mself\u001b[39m\u001b[38;5;241m.\u001b[39mcommand_executor\u001b[38;5;241m.\u001b[39mexecute(driver_command, params)\n\u001b[0;32m    346\u001b[0m \u001b[38;5;28;01mif\u001b[39;00m response:\n\u001b[1;32m--> 347\u001b[0m     \u001b[38;5;28;43mself\u001b[39;49m\u001b[38;5;241;43m.\u001b[39;49m\u001b[43merror_handler\u001b[49m\u001b[38;5;241;43m.\u001b[39;49m\u001b[43mcheck_response\u001b[49m\u001b[43m(\u001b[49m\u001b[43mresponse\u001b[49m\u001b[43m)\u001b[49m\n\u001b[0;32m    348\u001b[0m     response[\u001b[38;5;124m\"\u001b[39m\u001b[38;5;124mvalue\u001b[39m\u001b[38;5;124m\"\u001b[39m] \u001b[38;5;241m=\u001b[39m \u001b[38;5;28mself\u001b[39m\u001b[38;5;241m.\u001b[39m_unwrap_value(response\u001b[38;5;241m.\u001b[39mget(\u001b[38;5;124m\"\u001b[39m\u001b[38;5;124mvalue\u001b[39m\u001b[38;5;124m\"\u001b[39m, \u001b[38;5;28;01mNone\u001b[39;00m))\n\u001b[0;32m    349\u001b[0m     \u001b[38;5;28;01mreturn\u001b[39;00m response\n",
      "File \u001b[1;32md:\\kdt_240424\\workspace\\crawling\\myenv\\lib\\site-packages\\selenium\\webdriver\\remote\\errorhandler.py:229\u001b[0m, in \u001b[0;36mErrorHandler.check_response\u001b[1;34m(self, response)\u001b[0m\n\u001b[0;32m    227\u001b[0m         alert_text \u001b[38;5;241m=\u001b[39m value[\u001b[38;5;124m\"\u001b[39m\u001b[38;5;124malert\u001b[39m\u001b[38;5;124m\"\u001b[39m]\u001b[38;5;241m.\u001b[39mget(\u001b[38;5;124m\"\u001b[39m\u001b[38;5;124mtext\u001b[39m\u001b[38;5;124m\"\u001b[39m)\n\u001b[0;32m    228\u001b[0m     \u001b[38;5;28;01mraise\u001b[39;00m exception_class(message, screen, stacktrace, alert_text)  \u001b[38;5;66;03m# type: ignore[call-arg]  # mypy is not smart enough here\u001b[39;00m\n\u001b[1;32m--> 229\u001b[0m \u001b[38;5;28;01mraise\u001b[39;00m exception_class(message, screen, stacktrace)\n",
      "\u001b[1;31mNoSuchElementException\u001b[0m: Message: no such element: Unable to locate element: {\"method\":\"xpath\",\"selector\":\"//*[@id=\"account\"]/div[2]/div/div/ul/li[1]/a/span[1]\"}\n  (Session info: chrome=126.0.6478.114); For documentation on this error, please visit: https://www.selenium.dev/documentation/webdriver/troubleshooting/errors#no-such-element-exception\nStacktrace:\n\tGetHandleVerifier [0x00007FF636B63E32+31618]\n\t(No symbol) [0x00007FF636ADB099]\n\t(No symbol) [0x00007FF63699888A]\n\t(No symbol) [0x00007FF6369E8524]\n\t(No symbol) [0x00007FF6369E862C]\n\t(No symbol) [0x00007FF636A2F787]\n\t(No symbol) [0x00007FF636A0D14F]\n\t(No symbol) [0x00007FF636A2CA80]\n\t(No symbol) [0x00007FF636A0CEB3]\n\t(No symbol) [0x00007FF6369DA46B]\n\t(No symbol) [0x00007FF6369DB001]\n\tGetHandleVerifier [0x00007FF636E69FFD+3202381]\n\tGetHandleVerifier [0x00007FF636EB6A1D+3516269]\n\tGetHandleVerifier [0x00007FF636EAC490+3473888]\n\tGetHandleVerifier [0x00007FF636C15D36+760454]\n\t(No symbol) [0x00007FF636AE6B3F]\n\t(No symbol) [0x00007FF636AE1CD4]\n\t(No symbol) [0x00007FF636AE1E62]\n\t(No symbol) [0x00007FF636AD120F]\n\tBaseThreadInitThunk [0x00007FFFAEFD7344+20]\n\tRtlUserThreadStart [0x00007FFFB003CC91+33]\n"
     ]
    }
   ],
   "source": [
    "from selenium import webdriver\n",
    "from selenium.webdriver.chrome.options import Options\n",
    "from selenium.webdriver.common.by import By\n",
    "import time\n",
    "\n",
    "# webdriver 실행\n",
    "driver = webdriver.Chrome()\n",
    "\n",
    "\n",
    "driver.get('https://nid.naver.com/nidlogin.login?mode=form&url=https://www.naver.com/')\n",
    "\n",
    "\n",
    "username = driver.find_element(By.ID,'id')\n",
    "username.send_keys('yunk1203')\n",
    "\n",
    "password = driver.find_element(By.ID, 'pw')\n",
    "password.send_keys('navdbsrud12!')\n",
    "\n",
    "login_button = driver.find_element(By.XPATH, '//*[@id=\"log.login\"]/span')\n",
    "login_button.click()\n",
    "time.sleep(3)\n",
    "\n",
    "mail_button = driver.find_element(By.XPATH, '//*[@id=\"account\"]/div[2]/div/div/ul/li[1]/a/span[1]')\n",
    "mail_button.click()\n",
    "time.sleep(3)\n",
    "\n",
    "mail_button1 = driver.find_element(By.XPATH, '//*[@id=\"account\"]/div[3]/div[2]/div[1]/a')\n",
    "mail_button1.click()\n",
    "time.sleep(3)\n",
    "\n",
    "mail_count = driver.find_element(By.CSS_SELECTOR,'a.unread_mail span.count')\n",
    "print(\"안 읽은 메일의 수는\", mail_count.text)"
   ]
  },
  {
   "cell_type": "code",
   "execution_count": 74,
   "metadata": {},
   "outputs": [],
   "source": [
    "from selenium import webdriver\n",
    "from selenium.webdriver.common.by import By\n",
    "import time\n",
    "from selenium.webdriver.support.ui import WebDriverWait\n",
    "from selenium.webdriver.support import expected_conditions as EC\n",
    "\n",
    "# webdriver 실행\n",
    "driver = webdriver.Chrome()\n",
    "\n",
    "# 네이버 로그인 페이지 열기\n",
    "driver.get('https://nid.naver.com/nidlogin.login?mode=form&url=https://www.naver.com/')\n",
    "\n",
    "try:\n",
    "\n",
    "    username = WebDriverWait(driver, 10).until(\n",
    "        EC.presence_of_element_located((By.ID, 'id'))\n",
    "    )\n",
    "    username.send_keys('yunk1203')\n",
    "\n",
    "    # 비밀번호 입력\n",
    "    password = WebDriverWait(driver, 10).until(\n",
    "        EC.presence_of_element_located((By.ID, 'pw'))\n",
    "    )\n",
    "    password.send_keys('navdbsrud12!')\n",
    "\n",
    "\n",
    "    # 로그인 버튼 클릭\n",
    "    # login_button = driver.find_element(By.XPATH, '//*[@id=\"log.login\"]')\n",
    "    # login_button.click()\n",
    "\n",
    "    login_button = driver.find_element(By.ID, 'log.login')\n",
    "    login_button.click()\n",
    "\n",
    "\n",
    "\n",
    "    time.sleep(5)  # 페이지 로드를 기다립니다.\n",
    "\n",
    "\n",
    "    # browse_button = driver.find_element(By.XPATH, '//*[@id=\"new.dontsave\"]')\n",
    "    # browse_button.click()\n",
    "\n",
    "    # time.sleep(5)\n",
    "\n",
    "    # mail_button = driver.find_element(By.XPATH, '//*[@id=\"account\"]/div[2]/div/div/ul/li[1]/a')\n",
    "    # mail_button.click()\n",
    "    \n",
    "\n",
    "    # # 메일 페이지로 이동\n",
    "    # mail_button1 = driver.find_element(By.XPATH, '//*[@id=\"account\"]/div[2]/div/div/ul/li[1]/a/span[1]')\n",
    "    # mail_button1.click()\n",
    "\n",
    "    # time.sleep(3)  # 페이지 로드를 기다립니다.\n",
    "\n",
    "    # # 안 읽은 메일 개수 가져오기\n",
    "    # mail_count = driver.find_element(By.CSS_SELECTOR, 'a.unread_mail span.count')\n",
    "    # print(\"안 읽은 메일의 수는\", mail_count.text)\n",
    "\n",
    "except Exception as e:\n",
    "    print(\"오류 발생:\", e)\n",
    "\n",
    "finally:\n",
    "    # 작업 완료 후 브라우저 종료\n",
    "    driver.quit()\n"
   ]
  }
 ],
 "metadata": {
  "kernelspec": {
   "display_name": "myenv",
   "language": "python",
   "name": "python3"
  },
  "language_info": {
   "codemirror_mode": {
    "name": "ipython",
    "version": 3
   },
   "file_extension": ".py",
   "mimetype": "text/x-python",
   "name": "python",
   "nbconvert_exporter": "python",
   "pygments_lexer": "ipython3",
   "version": "3.10.11"
  }
 },
 "nbformat": 4,
 "nbformat_minor": 2
}
