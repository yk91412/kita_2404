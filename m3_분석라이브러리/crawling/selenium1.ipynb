{
 "cells": [
  {
   "cell_type": "markdown",
   "metadata": {},
   "source": [
    "#### 셀레니움 함수\n",
    "\n",
    "- https://goodthings4me.tistory.com/696\n",
    "\n",
    "- from selenium.webdriver.common.by import By\n",
    "\n",
    "- find_element(By.ID, \" \"): id 속성을 사용하여 접근\n",
    "- find_element(s)(By.CLASS_NAME, \" \"): 클래스를 사용하여 접근\n",
    "- find_element(s)(By.NAME, \" \"): name 속성을 사용하여 접근\n",
    "- find_element(s)(By.XPATH, \" \"): xpath 속성을 사용하여 접근\n",
    "- find_element(s)(By.LINK_TEXT, \" \"): 앵커태그(a 태그)에 사용되는 텍스트로 접근\n",
    "- find_element(s)(By.PARTIAL_LINK_TEXT, \" \"): 앵커태그(a 태그)에 사용되는 일부 텍스트로 접근\n",
    "- find_element(s)(By.TAG_NAME, \" \"): 태그를 사용하여 접근\n",
    "- find_element(s)(By.CSS_SELECTOR, \" \"): CSS 선택자를 사용하여 접근<br><br>\n",
    "셀레니움 사용법 : https://greeksharifa.github.io/references/2020/10/30/python-selenium-usage/ "
   ]
  },
  {
   "cell_type": "code",
   "execution_count": 3,
   "metadata": {},
   "outputs": [],
   "source": [
    "import selenium\n",
    "from selenium import webdriver\n",
    "from selenium.webdriver.common.keys import Keys\n",
    "from selenium.webdriver.common.by import By\n",
    "import time\n",
    "driver = webdriver.Chrome()\n",
    "url = 'https://naver.com'\n",
    "driver.get(url)\n",
    "time.sleep(1)"
   ]
  },
  {
   "cell_type": "code",
   "execution_count": 4,
   "metadata": {},
   "outputs": [
    {
     "name": "stdout",
     "output_type": "stream",
     "text": [
      "https://www.naver.com/\n"
     ]
    }
   ],
   "source": [
    "print(driver.current_url)\n",
    "driver.close()"
   ]
  },
  {
   "cell_type": "code",
   "execution_count": 7,
   "metadata": {},
   "outputs": [
    {
     "name": "stdout",
     "output_type": "stream",
     "text": [
      "https://www.google.com/\n"
     ]
    }
   ],
   "source": [
    "# 브라우저 창을 띄우지 않고 수행\n",
    "options = webdriver.ChromeOptions()\n",
    "options.add_argument('headless')\n",
    "driver = webdriver.Chrome(options=options)\n",
    "driver.get('https://google.com')\n",
    "print(driver.current_url)\n",
    "driver.close()"
   ]
  },
  {
   "cell_type": "markdown",
   "metadata": {},
   "source": [
    "- driver.close() : 현재 활성화된 탭이나 창을 닫습니다. 브라우저 세션은 계속 유지\n",
    "- driver.quit() : 모든 열려 있는 탭과 창을 닫고, 브라우저 세션을 종료합니다. WebDriver 인스턴스가 완전히 종료"
   ]
  },
  {
   "cell_type": "code",
   "execution_count": 9,
   "metadata": {},
   "outputs": [
    {
     "name": "stdout",
     "output_type": "stream",
     "text": [
      "Element Found: 검색\n"
     ]
    }
   ],
   "source": [
    "# Implicit Waits(암묵적 대기) : 찾으려는 element가 로드될 때까지 지정한 시간만큼 대기할 수 있도록 설정\n",
    "# BY 클래스는 selenium 에서 HTML 요소를 찾기 위한 다양한 방법을 제공\n",
    "# webDriverwait 클래스는 특정 조건이 충족될 때까지 대기하는 기능\n",
    "# expected_conditions 모듈은 여러 가지 조건을 미리 정의하여 특정 요소가 나타나거나 특정 상태가 될 때까지 기다릴 수 있도록 함\n",
    "\n",
    "from selenium.webdriver.common.by import By\n",
    "from selenium.webdriver.support.ui import WebDriverWait\n",
    "from selenium.webdriver.support import expected_conditions as EC \n",
    "\n",
    "driver = webdriver.Chrome()\n",
    "driver.get(url='https://www.google.com')\n",
    "\n",
    "try:\n",
    "    element = WebDriverWait(driver,5).until(\n",
    "        EC.presence_of_element_located((By.CLASS_NAME, 'gLFyf'))\n",
    "    )\n",
    "    # 요소가 존재하면 텍스트 출력(이 경우에는 입력창이므로 text가 없을 수 있음)\n",
    "    print(\"Element Found:\", element.get_attribute('title'))\n",
    "except Exception as e:\n",
    "    # 예외 발생 시 새 메시지 출력\n",
    "    print('An error occurred:',e)\n",
    "# finally:\n",
    "#     driver.quit() # 세션 종료"
   ]
  },
  {
   "cell_type": "code",
   "execution_count": 30,
   "metadata": {},
   "outputs": [],
   "source": [
    "from selenium import webdriver\n",
    "from selenium.webdriver.chrome.options import Options\n",
    "from selenium.webdriver.common.by import By\n",
    "\n",
    "# Chrome 옵션 설정\n",
    "options = Options()\n",
    "options.add_argument('--start-maximized') #브라우저를 최대화된 상태로 시작하도록 설정\n",
    "options.add_experimental_option('detach',True) # 스크립트가 종료된 후에도 브라우저가 닫히지 않도록 설정\n",
    "\n",
    "# webdriver 실행\n",
    "driver = webdriver.Chrome(options=options)\n",
    "\n",
    "# 구글 웹사이트 열기\n",
    "driver.get('https://www.google.com')"
   ]
  },
  {
   "cell_type": "code",
   "execution_count": null,
   "metadata": {},
   "outputs": [],
   "source": [
    "\"\"\"\n",
    "<textarea class=\"gLFyf\" aria-controls=\"Alh6id\" aria-owns=\"Alh6id\" autofocus=\"\" title=\"검색\" value=\"\" jsaction=\"paste:puy29d;\" aria-label=\"검색\" \n",
    "aria-autocomplete=\"both\" aria-expanded=\"false\" aria-haspopup=\"false\" autocapitalize=\"off\" autocomplete=\"off\" autocorrect=\"off\" id=\"APjFqb\" \n",
    "maxlength=\"2048\" name=\"q\" role=\"combobox\" rows=\"1\" spellcheck=\"false\" data-ved=\"0ahUKEwiTqeqlquWGAxVSh68BHeVpBlkQ39UDCAY\"></textarea>\n",
    "\"\"\""
   ]
  },
  {
   "cell_type": "code",
   "execution_count": 13,
   "metadata": {},
   "outputs": [
    {
     "name": "stdout",
     "output_type": "stream",
     "text": [
      "Element found by ID: q\n"
     ]
    }
   ],
   "source": [
    "# 1.find_element(By.ID, 'id_name') : id 속성을 사용하여 접근\n",
    "try:\n",
    "    element_by_id = driver.find_element(By.ID, 'APjFqb')\n",
    "    print(\"Element found by ID:\", element_by_id.get_attribute('name'))\n",
    "except:\n",
    "    print(\"Element not found by ID\")"
   ]
  },
  {
   "cell_type": "code",
   "execution_count": 20,
   "metadata": {},
   "outputs": [
    {
     "name": "stdout",
     "output_type": "stream",
     "text": [
      "Element found by CLASS_NAME: 검색\n"
     ]
    }
   ],
   "source": [
    "# 2. find_element(By.CLASS_NAME, 'class_name') : 클래스를 사용하여 접근\n",
    "\n",
    "try:\n",
    "    element_by_class = driver.find_element(By.CLASS_NAME, 'gLFyf')\n",
    "    print(\"Element found by CLASS_NAME:\",element_by_class.get_attribute('title'))\n",
    "except:\n",
    "    print(\"Element not found by CLASS_NAME\")"
   ]
  },
  {
   "cell_type": "code",
   "execution_count": 25,
   "metadata": {},
   "outputs": [
    {
     "name": "stdout",
     "output_type": "stream",
     "text": [
      "Element found by NAME: 검색\n"
     ]
    }
   ],
   "source": [
    "# 3. find_element(By.NAME, 'name') : name 속성을 사용하여 접근\n",
    "\n",
    "try:\n",
    "    element_by_name = driver.find_element(By.NAME, 'q')\n",
    "    print(\"Element found by NAME:\", element_by_name.get_attribute('title'))\n",
    "except:\n",
    "    print(\"Element not found by NAME\")"
   ]
  },
  {
   "cell_type": "code",
   "execution_count": 40,
   "metadata": {},
   "outputs": [
    {
     "data": {
      "text/plain": [
       "'\\n<textarea class=\"gLFyf\" aria-controls=\"Alh6id\" aria-owns=\"Alh6id\" autofocus=\"\" title=\"검색\" value=\"\" jsaction=\"paste:puy29d;\" aria-label=\"검색\" \\naria-autocomplete=\"both\" aria-expanded=\"false\" aria-haspopup=\"false\" autocapitalize=\"off\" autocomplete=\"off\" autocorrect=\"off\" id=\"APjFqb\" \\nmaxlength=\"2048\" name=\"q\" role=\"combobox\" rows=\"1\" spellcheck=\"false\" data-ved=\"0ahUKEwiTqeqlquWGAxVSh68BHeVpBlkQ39UDCAY\"></textarea>\\n'"
      ]
     },
     "execution_count": 40,
     "metadata": {},
     "output_type": "execute_result"
    }
   ],
   "source": [
    "\"\"\"\n",
    "<textarea class=\"gLFyf\" aria-controls=\"Alh6id\" aria-owns=\"Alh6id\" autofocus=\"\" title=\"검색\" value=\"\" jsaction=\"paste:puy29d;\" aria-label=\"검색\" \n",
    "aria-autocomplete=\"both\" aria-expanded=\"false\" aria-haspopup=\"false\" autocapitalize=\"off\" autocomplete=\"off\" autocorrect=\"off\" id=\"APjFqb\" \n",
    "maxlength=\"2048\" name=\"q\" role=\"combobox\" rows=\"1\" spellcheck=\"false\" data-ved=\"0ahUKEwiTqeqlquWGAxVSh68BHeVpBlkQ39UDCAY\"></textarea>\n",
    "\"\"\""
   ]
  },
  {
   "cell_type": "markdown",
   "metadata": {},
   "source": [
    "Task1_0621. https://www.google.com 사이트에서 셀레니움을 이용해서 다음을 수행하세요.\n",
    "- xpath 속성을 사용하여 접근하여 요소를 추출\n",
    "- 앵커태그(a 태그)에 사용되는 텍스트로 접근하여 요소를 추출\n",
    "- 앵커태그(a 태그)에 사용되는 일부 텍스트로 접근하여 요소를 추출\n",
    "- 태그를 사용하여 접근하여 요소를 추출\n",
    "- CSS 선택자를 사용하여 접근하여 요소를 추출"
   ]
  },
  {
   "cell_type": "code",
   "execution_count": 51,
   "metadata": {},
   "outputs": [
    {
     "name": "stdout",
     "output_type": "stream",
     "text": [
      "Element found by title: 검색\n"
     ]
    }
   ],
   "source": [
    "# xpath 속성을 사용하여 요소 추출\n",
    "\n",
    "from selenium import webdriver\n",
    "from selenium.webdriver.chrome.options import Options\n",
    "from selenium.webdriver.common.by import By\n",
    "\n",
    "# webdriver 실행\n",
    "driver = webdriver.Chrome()\n",
    "\n",
    "# 구글 웹사이트 열기\n",
    "driver.get('https://www.google.com')\n",
    "\n",
    "try : \n",
    "    element_by_xpath = driver.find_element(By.XPATH, '//*[@id=\"APjFqb\"]')\n",
    "    print(\"Element found by title:\", element_by_xpath.get_attribute('title'))\n",
    "except:\n",
    "    print(\"Element not found by title\")"
   ]
  },
  {
   "cell_type": "code",
   "execution_count": 52,
   "metadata": {},
   "outputs": [
    {
     "name": "stdout",
     "output_type": "stream",
     "text": [
      "Element not found by class\n"
     ]
    }
   ],
   "source": [
    "# 앵커 태그에 사용되는 텍스트로 접근하여 요소 추출\n",
    "\n",
    "from selenium import webdriver\n",
    "from selenium.webdriver.chrome.options import Options\n",
    "from selenium.webdriver.common.by import By\n",
    "\n",
    "# webdriver 실행\n",
    "driver = webdriver.Chrome()\n",
    "\n",
    "# 구글 웹사이트 열기\n",
    "driver.get('https://www.google.com')\n",
    "\n",
    "try:\n",
    "    element_by_as = driver.find_element(By.LINK_TEXT, '')\n",
    "    print(\"Element found by class:\", element_by_as.get_attribute('class'))\n",
    "except:\n",
    "    print(\"Element not found by class\")"
   ]
  },
  {
   "cell_type": "code",
   "execution_count": 45,
   "metadata": {},
   "outputs": [
    {
     "name": "stdout",
     "output_type": "stream",
     "text": [
      "Element found by class: pHiOh\n"
     ]
    }
   ],
   "source": [
    "# 앵커 태그에 사용되는 일부 텍스트로 접근\n",
    "from selenium import webdriver\n",
    "from selenium.webdriver.chrome.options import Options\n",
    "from selenium.webdriver.common.by import By\n",
    "\n",
    "# webdriver 실행\n",
    "driver = webdriver.Chrome()\n",
    "\n",
    "# 구글 웹사이트 열기\n",
    "driver.get('https://www.google.com')\n",
    "\n",
    "\n",
    "try:\n",
    "    element_by_a = driver.find_element(By.PARTIAL_LINK_TEXT, '')\n",
    "    print(\"Element found by class:\", element_by_a.get_attribute('class'))\n",
    "except:\n",
    "    print(\"Element not found by class\")"
   ]
  },
  {
   "cell_type": "code",
   "execution_count": 49,
   "metadata": {},
   "outputs": [
    {
     "name": "stdout",
     "output_type": "stream",
     "text": [
      "Element found by title: 검색\n"
     ]
    }
   ],
   "source": [
    "# 태그를 사용하여 접근\n",
    "\n",
    "from selenium import webdriver\n",
    "from selenium.webdriver.chrome.options import Options\n",
    "from selenium.webdriver.common.by import By\n",
    "\n",
    "# webdriver 실행\n",
    "driver = webdriver.Chrome()\n",
    "\n",
    "# 구글 웹사이트 열기\n",
    "driver.get('https://www.google.com')\n",
    "\n",
    "try:\n",
    "    element_by_tag = driver.find_element(By.TAG_NAME,'textarea')\n",
    "    print('Element found by title:', element_by_tag.get_attribute('title'))\n",
    "\n",
    "except:\n",
    "    print(\"Element not found by title\")"
   ]
  },
  {
   "cell_type": "code",
   "execution_count": 48,
   "metadata": {},
   "outputs": [
    {
     "name": "stdout",
     "output_type": "stream",
     "text": [
      "Element found by name: q\n"
     ]
    }
   ],
   "source": [
    "# css 선택자를 사용하여 접근\n",
    "\n",
    "from selenium import webdriver\n",
    "from selenium.webdriver.chrome.options import Options\n",
    "from selenium.webdriver.common.by import By\n",
    "\n",
    "# webdriver 실행\n",
    "driver = webdriver.Chrome()\n",
    "\n",
    "# 구글 웹사이트 열기\n",
    "driver.get('https://www.google.com')\n",
    "\n",
    "try:\n",
    "    element_by_css = driver.find_element(By.CSS_SELECTOR,'#APjFqb')\n",
    "    print('Element found by name:', element_by_css.get_attribute('name'))\n",
    "except:\n",
    "    print(\"Element not found by name\")"
   ]
  },
  {
   "cell_type": "markdown",
   "metadata": {},
   "source": [
    "Task2_0621. 한빛 네트워크 사이트 https://www.hanbit.co.kr/ 로그인 후 마일리지 점수 가져와서 출력하세요."
   ]
  },
  {
   "cell_type": "code",
   "execution_count": 59,
   "metadata": {},
   "outputs": [
    {
     "name": "stdout",
     "output_type": "stream",
     "text": [
      "마일리지 :  2,000\n"
     ]
    }
   ],
   "source": [
    "from selenium import webdriver\n",
    "from selenium.webdriver.chrome.options import Options\n",
    "from selenium.webdriver.common.by import By\n",
    "import time\n",
    "\n",
    "# webdriver 실행\n",
    "driver = webdriver.Chrome()\n",
    "\n",
    "\n",
    "driver.get('https://www.hanbit.co.kr/member/login.html')\n",
    "\n",
    "username = driver.find_element(By.ID,'m_id')\n",
    "username.send_keys('poilkmn104')\n",
    "\n",
    "password = driver.find_element(By.ID, 'm_passwd')\n",
    "password.send_keys('handbsrud12!')\n",
    "\n",
    "login_button = driver.find_element(By.XPATH,'//*[@id=\"login_btn\"]')\n",
    "login_button.click()\n",
    "\n",
    "time.sleep(5)\n",
    "\n",
    "mypage_button = driver.find_element(By.XPATH, '//*[@id=\"wrap_nav\"]/ul[2]/li[2]/a')\n",
    "mypage_button.click()\n",
    "\n",
    "time.sleep(5)\n",
    "\n",
    "m = driver.find_element(By.CSS_SELECTOR,'.mileage_section1 > dd > span')\n",
    "print(\"마일리지 : \", m.text)\n",
    "\n",
    "\n",
    "driver.quit()\n"
   ]
  },
  {
   "cell_type": "markdown",
   "metadata": {},
   "source": [
    "Task3_0621. 네이버 로그인한 후 않읽은 메일의 개수를 가져와서 출력하세요."
   ]
  },
  {
   "cell_type": "code",
   "execution_count": null,
   "metadata": {},
   "outputs": [],
   "source": [
    "from selenium import webdriver\n",
    "from selenium.webdriver.chrome.options import Options\n",
    "from selenium.webdriver.common.by import By\n",
    "import time\n",
    "\n",
    "# webdriver 실행\n",
    "driver = webdriver.Chrome()\n",
    "\n",
    "\n",
    "driver.get('https://nid.naver.com/nidlogin.login?mode=form&url=https://www.naver.com/')\n",
    "\n",
    "\n",
    "username = driver.find_element(By.ID,'id')\n",
    "username.send_keys('yunk1203')\n",
    "\n",
    "password = driver.find_element(By.ID, 'pw')\n",
    "password.send_keys('navdbsrud12!')\n",
    "\n",
    "login_button = driver.find_element(By.XPATH, '//*[@id=\"log.login\"]/span')\n",
    "login_button.click()\n",
    "time.sleep(3)\n",
    "\n",
    "mail_button = driver.find_element(By.XPATH, '//*[@id=\"account\"]/div[2]/div/div/ul/li[1]/a/span[1]')\n",
    "mail_button.click()\n",
    "time.sleep(3)\n",
    "\n",
    "mail_button1 = driver.find_element(By.XPATH, '//*[@id=\"account\"]/div[3]/div[2]/div[1]/a')\n",
    "mail_button1.click()\n",
    "time.sleep(3)\n",
    "\n",
    "mail_count = driver.find_element(By.CSS_SELECTOR,'a.unread_mail span.count')\n",
    "print(\"안 읽은 메일의 수는\", mail_count.text)"
   ]
  },
  {
   "cell_type": "code",
   "execution_count": null,
   "metadata": {},
   "outputs": [],
   "source": [
    "# 한빛 네트워크 사이트 로그인 후 점수 가져오기\n",
    "import selenium\n",
    "from selenium import webdriver\n",
    "from selenium.webdriver.common.keys import Keys\n",
    "from selenium.webdriver.common.by import By\n",
    "from bs4 import BeautifulSoup\n",
    "import time\n",
    "\n",
    "driver = webdriver.Chrome()\n",
    "driver.get('https://www.hanbit.co.kr/')\n",
    "element = driver.find_element(By.CLASS_NAME,'login')\n",
    "element.click()\n",
    "\n",
    "m_id  = ''\n",
    "m_pw = ''\n",
    "element = driver.find_element(By.ID,'m_id')\n",
    "element.send_keys(m_id)\n",
    "time.sleep(1)\n",
    "element = driver.find_element(By.ID,'m_passwd')\n",
    "element.send_keys(m_pw)\n",
    "time.sleep(1)\n",
    "# driver.execute_script(\"document.getElementById('m_id').value=\\'\" + m_id + \"\\'\")\n",
    "# time.sleep(2)\n",
    "# driver.execute_script(\"document.getElementById('m_pw').value=\\'\" + m_pw + \"\\'\")\n",
    "# time.sleep(2)\n",
    "\n",
    "element = driver.find_element(By.CLASS_NAME,'btn_login').click()\n",
    "time.sleep(1)\n",
    "driver.maximize_window()\n",
    "driver.find_element(By.XPATH,'//*[@id=\"wrap_nav\"]/ul[2]/li[2]/a').click()\n",
    "time.sleep(2)\n",
    "bs = BeautifulSoup(driver.page_source,'html.parser')\n",
    "element = bs.select_one('#container > div > div.sm_mymileage > dl.mileage_section1 > dd > span')\n",
    "print(element.text)\n",
    "time.sleep(3)\n",
    "driver.close()\n"
   ]
  },
  {
   "cell_type": "code",
   "execution_count": 74,
   "metadata": {},
   "outputs": [],
   "source": [
    "from selenium import webdriver\n",
    "from selenium.webdriver.common.by import By\n",
    "import time\n",
    "from selenium.webdriver.support.ui import WebDriverWait\n",
    "from selenium.webdriver.support import expected_conditions as EC\n",
    "\n",
    "# webdriver 실행\n",
    "driver = webdriver.Chrome()\n",
    "\n",
    "# 네이버 로그인 페이지 열기\n",
    "driver.get('https://nid.naver.com/nidlogin.login?mode=form&url=https://www.naver.com/')\n",
    "\n",
    "try:\n",
    "\n",
    "    username = WebDriverWait(driver, 10).until(\n",
    "        EC.presence_of_element_located((By.ID, 'id'))\n",
    "    )\n",
    "    username.send_keys('yunk1203')\n",
    "\n",
    "    # 비밀번호 입력\n",
    "    password = WebDriverWait(driver, 10).until(\n",
    "        EC.presence_of_element_located((By.ID, 'pw'))\n",
    "    )\n",
    "    password.send_keys('navdbsrud12!')\n",
    "\n",
    "\n",
    "    # 로그인 버튼 클릭\n",
    "    # login_button = driver.find_element(By.XPATH, '//*[@id=\"log.login\"]')\n",
    "    # login_button.click()\n",
    "\n",
    "    login_button = driver.find_element(By.ID, 'log.login')\n",
    "    login_button.click()\n",
    "\n",
    "\n",
    "\n",
    "    time.sleep(5)  # 페이지 로드를 기다립니다.\n",
    "\n",
    "\n",
    "    # browse_button = driver.find_element(By.XPATH, '//*[@id=\"new.dontsave\"]')\n",
    "    # browse_button.click()\n",
    "\n",
    "    # time.sleep(5)\n",
    "\n",
    "    # mail_button = driver.find_element(By.XPATH, '//*[@id=\"account\"]/div[2]/div/div/ul/li[1]/a')\n",
    "    # mail_button.click()\n",
    "    \n",
    "\n",
    "    # # 메일 페이지로 이동\n",
    "    # mail_button1 = driver.find_element(By.XPATH, '//*[@id=\"account\"]/div[2]/div/div/ul/li[1]/a/span[1]')\n",
    "    # mail_button1.click()\n",
    "\n",
    "    # time.sleep(3)  # 페이지 로드를 기다립니다.\n",
    "\n",
    "    # # 안 읽은 메일 개수 가져오기\n",
    "    # mail_count = driver.find_element(By.CSS_SELECTOR, 'a.unread_mail span.count')\n",
    "    # print(\"안 읽은 메일의 수는\", mail_count.text)\n",
    "\n",
    "except Exception as e:\n",
    "    print(\"오류 발생:\", e)\n",
    "\n",
    "finally:\n",
    "    # 작업 완료 후 브라우저 종료\n",
    "    driver.quit()\n"
   ]
  },
  {
   "cell_type": "code",
   "execution_count": null,
   "metadata": {},
   "outputs": [],
   "source": [
    "import pyperclip\n",
    "from selenium import webdriver\n",
    "from selenium.webdriver.common.by import By\n",
    "from selenium.webdriver.common.keys import Keys\n",
    "import time\n",
    "from selenium.webdriver.support.ui import WebDriverWait\n",
    "from selenium.webdriver.support import expected_conditions as EC\n",
    "\n",
    "# 웹드라이버 실행\n",
    "options = webdriver.ChromeOptions()\n",
    "options.add_argument('--disable-blink-features=AutomationControlled')\n",
    "options.add_argument('user-agent=Mozilla/5.0 (Windows NT 10.0; Win64; x64) AppleWebKit/537.36 (KHTML, like Gecko) Chrome/91.0.4472.124 Safari/537.36')\n",
    "driver = webdriver.Chrome(options=options)\n",
    "\n",
    "# 네이버 로그인 페이지 열기\n",
    "driver.get('https://nid.naver.com/nidlogin.login?mode=form&url=https://www.naver.com/')\n",
    "\n",
    "try:\n",
    "    # 아이디 입력\n",
    "    username = WebDriverWait(driver, 10).until(\n",
    "        EC.presence_of_element_located((By.XPATH, '//*[@id=\"id\"]'))\n",
    "    )\n",
    "    pyperclip.copy('yunk1203')\n",
    "    username.click()\n",
    "    username.send_keys(Keys.CONTROL, 'v')\n",
    "\n",
    "    # 비밀번호 입력\n",
    "    password = WebDriverWait(driver, 10).until(\n",
    "        EC.presence_of_element_located((By.XPATH, '//*[@id=\"pw\"]'))\n",
    "    )\n",
    "    pyperclip.copy('navdbsrud12!')\n",
    "    password.click()\n",
    "    password.send_keys(Keys.CONTROL, 'v')\n",
    "\n",
    "    # 로그인 버튼 클릭\n",
    "    login_button = driver.find_element(By.XPATH, '//*[@id=\"log.login\"]')\n",
    "    login_button.click()\n",
    "\n",
    "    time.sleep(5)  # 페이지 로드를 기다립니다.\n",
    "\n",
    "    # \"브라우저에 저장하지 않음\" 버튼 클릭\n",
    "    browse_button = driver.find_element(By.XPATH, '//*[@id=\"new.dontsave\"]')\n",
    "    browse_button.click()\n",
    "\n",
    "    time.sleep(5)\n",
    "\n",
    "    # 메일 버튼 클릭\n",
    "    mail_button = driver.find_element(By.XPATH, '//*[@id=\"account\"]/div[2]/div/div/ul/li[1]/a')\n",
    "    mail_button.click()\n",
    "\n",
    "    time.sleep(3)  # 페이지 로드를 기다립니다.\n",
    "\n",
    "\n",
    "\n",
    "    mail_button1 = driver.find_element(By.XPATH, '//*[@id=\"account\"]/div[3]/div[2]/div[1]/a')\n",
    "    mail_button1.click()\n",
    "\n",
    "    time.sleep(3)  # 페이지 로드를 기다립니다.\n",
    "    # 안 읽은 메일 개수 가져오기\n",
    "    mail_count = WebDriverWait(driver, 10).until(\n",
    "        EC.presence_of_element_located((By.XPATH, '//*[@id=\"root\"]/div/nav/div/div[2]/div[1]/ul/li[2]/div/div/a[2]/span[2]'))\n",
    "    )\n",
    "    print(\"안 읽은 메일의 수는\", mail_count.get_text())\n",
    "\n",
    "\n",
    "# //*[@id=\"root\"]/div/nav/div/div[2]/div[1]/ul/li[8]/div/div/a[2]/span[2]\n",
    "# //*[@id=\"root\"]/div/nav/div/div[2]/div[1]/ul/li[2]/div/div/a[2]/span[2]\n",
    "# //*[@id=\"root\"]/div/nav/div/div[2]/div[1]/ul/li[6]/ul/li[1]/div/div/a[2]/span[2]\n",
    "except Exception as e:\n",
    "    print(\"오류 발생:\", e)\n",
    "\n",
    "finally:\n",
    "    # 작업 완료 후 브라우저 종료\n",
    "    driver.quit()"
   ]
  },
  {
   "cell_type": "code",
   "execution_count": null,
   "metadata": {},
   "outputs": [],
   "source": [
    "# 로그인 이동\n",
    "driver.forward()\n"
   ]
  },
  {
   "cell_type": "code",
   "execution_count": null,
   "metadata": {},
   "outputs": [],
   "source": [
    "# 새로고침 > 홈 이동\n",
    "driver.refresh()\n",
    "time.sleep(2)\n",
    "driver.back"
   ]
  },
  {
   "cell_type": "code",
   "execution_count": null,
   "metadata": {},
   "outputs": [],
   "source": [
    "# 검색어 입력\n",
    "elem = driver.find_element(By.ID, 'query')\n",
    "elem.send_keys('빅데이터')"
   ]
  },
  {
   "cell_type": "code",
   "execution_count": null,
   "metadata": {},
   "outputs": [],
   "source": [
    "# 검색 실행\n",
    "from selenium.webdriver.common.keys import Keys\n",
    "elem.send_keys(Keys.ENTER)"
   ]
  },
  {
   "cell_type": "code",
   "execution_count": null,
   "metadata": {},
   "outputs": [],
   "source": [
    "elem = driver.find_element(By.NAME, 'q')\n",
    "elem.send_keys('빅데이터')\n",
    "time.sleep(1)\n",
    "elem = driver.find_element(By.XPATH, '//*[@id=\"daumSearch\"]/fieldset/div/div/buttom[3]')\n",
    "elem.click()"
   ]
  },
  {
   "cell_type": "code",
   "execution_count": null,
   "metadata": {},
   "outputs": [],
   "source": [
    "# news title 모두 출력\n",
    "elems = driver.find_elements(By.CSS_SELECTOR, '#dnsColl > div > ul > li > div.c-item-content > div.item-bundle-mid > div.item-title > strong > a')\n",
    "for e in elems:\n",
    "    print(e.text)"
   ]
  },
  {
   "cell_type": "code",
   "execution_count": null,
   "metadata": {},
   "outputs": [],
   "source": [
    "# 뉴스 타이틀 링크 1개 가져오기\n",
    "elem = driver.find_element(By.TAG_NAME, 'a')\n",
    "elem.get_attribute('href')"
   ]
  },
  {
   "cell_type": "code",
   "execution_count": null,
   "metadata": {},
   "outputs": [],
   "source": [
    "# 뉴스 타이틀 링크 모두 가져오기\n",
    "elemes = driver.find_elements(By.TAG_NAME,'a')\n",
    "for e in elems:\n",
    "    print(e.get_attribute('href'))"
   ]
  },
  {
   "cell_type": "code",
   "execution_count": null,
   "metadata": {},
   "outputs": [],
   "source": []
  },
  {
   "cell_type": "markdown",
   "metadata": {},
   "source": [
    "분석 과제 : 노트북 시장분석\n",
    "\n",
    "세부과제\n",
    "노트북 시장 분석을 위한 쿠팡 데이터 가용성\n",
    "브랜드별 가격 포지셔닝 - 브랜드 파생 변수 생성\n",
    "가격 기준 제품 카테고리 분류 - 통계적, ML 접근, LOW,Mid,High 3개 priceCat 파생변수 생성\n",
    "가격 카테고리별 브랜드 포지셔닝\n",
    "가격 카테고리별 브랜드에 대한 고객 평가 및 리뷰수 분석\n",
    "제품명에 포함되어 있는 스팩에 대한 키워드 분석"
   ]
  },
  {
   "cell_type": "code",
   "execution_count": null,
   "metadata": {},
   "outputs": [],
   "source": []
  }
 ],
 "metadata": {
  "kernelspec": {
   "display_name": "myenv",
   "language": "python",
   "name": "python3"
  },
  "language_info": {
   "codemirror_mode": {
    "name": "ipython",
    "version": 3
   },
   "file_extension": ".py",
   "mimetype": "text/x-python",
   "name": "python",
   "nbconvert_exporter": "python",
   "pygments_lexer": "ipython3",
   "version": "3.10.11"
  }
 },
 "nbformat": 4,
 "nbformat_minor": 2
}
