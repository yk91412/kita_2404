{
 "cells": [
  {
   "cell_type": "markdown",
   "metadata": {},
   "source": [
    "실습 과제 : Electro 사이트를 크롤링해서 category, name,   link, price 4개 컬럼으로 구성되는 데이터프레임을 출력하세요."
   ]
  },
  {
   "cell_type": "code",
   "execution_count": null,
   "metadata": {},
   "outputs": [
    {
     "data": {
      "text/html": [
       "<div>\n",
       "<style scoped>\n",
       "    .dataframe tbody tr th:only-of-type {\n",
       "        vertical-align: middle;\n",
       "    }\n",
       "\n",
       "    .dataframe tbody tr th {\n",
       "        vertical-align: top;\n",
       "    }\n",
       "\n",
       "    .dataframe thead th {\n",
       "        text-align: right;\n",
       "    }\n",
       "</style>\n",
       "<table border=\"1\" class=\"dataframe\">\n",
       "  <thead>\n",
       "    <tr style=\"text-align: right;\">\n",
       "      <th></th>\n",
       "      <th>category</th>\n",
       "      <th>name</th>\n",
       "      <th>link</th>\n",
       "      <th>price</th>\n",
       "    </tr>\n",
       "  </thead>\n",
       "  <tbody>\n",
       "    <tr>\n",
       "      <th>0</th>\n",
       "      <td>노트북</td>\n",
       "      <td>에이서 스위프트 GO 16 OLED, 스틸 그레이, 코어i7, 512GB, 16GB...</td>\n",
       "      <td>#product1_detail.html</td>\n",
       "      <td>1419000</td>\n",
       "    </tr>\n",
       "    <tr>\n",
       "      <th>1</th>\n",
       "      <td>노트북</td>\n",
       "      <td>삼성전자 노트북 플러스2 15.6, 퓨어 화이트, NT550XDA-K24AT, 펜티...</td>\n",
       "      <td>#product2_detail.html</td>\n",
       "      <td>549000</td>\n",
       "    </tr>\n",
       "    <tr>\n",
       "      <th>2</th>\n",
       "      <td>노트북</td>\n",
       "      <td>레노버 아이디어패드 슬림 1 15AMN7 15.6, 256GB, Free DOS, ...</td>\n",
       "      <td>#product3_detail.html</td>\n",
       "      <td>529000</td>\n",
       "    </tr>\n",
       "    <tr>\n",
       "      <th>3</th>\n",
       "      <td>노트북</td>\n",
       "      <td>레노버 V15 G4 AMN 15.6, Arctic Grey, 라이젠3, 256GB,...</td>\n",
       "      <td>#product4_detail.html</td>\n",
       "      <td>624000</td>\n",
       "    </tr>\n",
       "    <tr>\n",
       "      <th>4</th>\n",
       "      <td>노트북</td>\n",
       "      <td>LG 울트라PC 엣지 16, 차콜 그레이, 라이젠5, 256GB, 16GB, WIN...</td>\n",
       "      <td>#product5_detail.html</td>\n",
       "      <td>1135000</td>\n",
       "    </tr>\n",
       "  </tbody>\n",
       "</table>\n",
       "</div>"
      ],
      "text/plain": [
       "  category                                               name  \\\n",
       "0      노트북  에이서 스위프트 GO 16 OLED, 스틸 그레이, 코어i7, 512GB, 16GB...   \n",
       "1      노트북  삼성전자 노트북 플러스2 15.6, 퓨어 화이트, NT550XDA-K24AT, 펜티...   \n",
       "2      노트북  레노버 아이디어패드 슬림 1 15AMN7 15.6, 256GB, Free DOS, ...   \n",
       "3      노트북  레노버 V15 G4 AMN 15.6, Arctic Grey, 라이젠3, 256GB,...   \n",
       "4      노트북  LG 울트라PC 엣지 16, 차콜 그레이, 라이젠5, 256GB, 16GB, WIN...   \n",
       "\n",
       "                    link    price  \n",
       "0  #product1_detail.html  1419000  \n",
       "1  #product2_detail.html   549000  \n",
       "2  #product3_detail.html   529000  \n",
       "3  #product4_detail.html   624000  \n",
       "4  #product5_detail.html  1135000  "
      ]
     },
     "metadata": {},
     "output_type": "display_data"
    }
   ],
   "source": [
    "import requests\n",
    "from bs4 import BeautifulSoup \n",
    "import pandas as pd\n",
    "import re\n",
    "\n",
    "url = 'https://startcoding.pythonanywhere.com/basic?page={}&keyword='\n",
    "\n",
    "headers = {\n",
    "    \"User-Agent\": \"Mozilla/5.0 (Windows NT 10.0; Win64; x64) AppleWebKit/537.36 (KHTML, like Gecko) Chrome/91.0.4472.124 Safari/537.36\"\n",
    "}\n",
    "\n",
    "# 컬럼 생성\n",
    "category = []\n",
    "name = []\n",
    "link = []\n",
    "price = []\n",
    "for i in range(1,5):\n",
    "    response = requests.get(url.format(i), headers=headers)\n",
    "    soup = BeautifulSoup(response.text, 'html.parser')\n",
    "    cate = soup.select('p.product-category')\n",
    "    na = soup.select('h3.product-name')\n",
    "    li = soup.select('h3.product-name a')\n",
    "    pri = soup.select('h4.product-price')\n",
    "    for c in cate:\n",
    "        category.append(c.text)\n",
    "    for n in na:\n",
    "        name.append(n.text)\n",
    "    for l in li:\n",
    "        link.append(l['href'])\n",
    "    for p in pri:\n",
    "        if p.find_all('del'):\n",
    "            for del_tag in p.find_all('del'):\n",
    "                del_tag.decompose() \n",
    "        p = p.text.strip().replace(',','')\n",
    "        p = re.findall('\\d',p) # replace('원','')로도 가능\n",
    "        price.append(''.join(p))\n",
    "\n",
    "# 데이터프레임 생성\n",
    "df = pd.DataFrame({'category': category,\n",
    "                   'name':name,\n",
    "                   'link':link,\n",
    "                   'price':price})\n",
    "df.head()"
   ]
  },
  {
   "cell_type": "code",
   "execution_count": null,
   "metadata": {},
   "outputs": [
    {
     "data": {
      "text/plain": [
       "category\n",
       "노트북     10\n",
       "데스크탑    10\n",
       "휴대폰     10\n",
       "모니터      5\n",
       "Name: count, dtype: int64"
      ]
     },
     "metadata": {},
     "output_type": "display_data"
    }
   ],
   "source": [
    "df.category.value_counts()"
   ]
  },
  {
   "cell_type": "code",
   "execution_count": null,
   "metadata": {},
   "outputs": [
    {
     "data": {
      "text/plain": [
       "'89000'"
      ]
     },
     "metadata": {},
     "output_type": "display_data"
    }
   ],
   "source": [
    "# price가 두개 일 수 있으므로 최신 가격 선택\n",
    "soup.select_one('.product-price').text.split('원')[0].replace(',','')"
   ]
  },
  {
   "cell_type": "code",
   "execution_count": null,
   "metadata": {},
   "outputs": [],
   "source": [
    "import requests\n",
    "from bs4 import BeautifulSoup \n",
    "import re\n",
    "\n",
    "\n",
    "headers = {\n",
    "    \"User-Agent\": \"Mozilla/5.0 (Windows NT 10.0; Win64; x64) AppleWebKit/537.36 (KHTML, like Gecko) Chrome/91.0.4472.124 Safari/537.36\"\n",
    "}\n",
    "\n",
    "data = []\n",
    "for i in range(1,5):\n",
    "    response = requests.get(f'https://startcoding.pythonanywhere.com/basic?page={i}&keyword=', headers=headers)\n",
    "    soup = BeautifulSoup(response.text, 'html.parser')\n",
    "    items = soup.select('.product')\n",
    "\n",
    "\n",
    "    for item in items:\n",
    "        category = item.select_one('.product-category').text.strip()\n",
    "        name = item.select_one('.product-name').text.strip()\n",
    "        link = item.select_one('.product-name > a').attrs['href']\n",
    "        price = item.select_one('.product-price').text.split('원')[0].replace(',','')\n",
    "        data.append([category, name, link, price])"
   ]
  },
  {
   "cell_type": "code",
   "execution_count": null,
   "metadata": {},
   "outputs": [
    {
     "data": {
      "text/html": [
       "<div>\n",
       "<style scoped>\n",
       "    .dataframe tbody tr th:only-of-type {\n",
       "        vertical-align: middle;\n",
       "    }\n",
       "\n",
       "    .dataframe tbody tr th {\n",
       "        vertical-align: top;\n",
       "    }\n",
       "\n",
       "    .dataframe thead th {\n",
       "        text-align: right;\n",
       "    }\n",
       "</style>\n",
       "<table border=\"1\" class=\"dataframe\">\n",
       "  <thead>\n",
       "    <tr style=\"text-align: right;\">\n",
       "      <th></th>\n",
       "      <th>category</th>\n",
       "      <th>name</th>\n",
       "      <th>link</th>\n",
       "      <th>price</th>\n",
       "    </tr>\n",
       "  </thead>\n",
       "  <tbody>\n",
       "    <tr>\n",
       "      <th>0</th>\n",
       "      <td>노트북</td>\n",
       "      <td>에이서 스위프트 GO 16 OLED, 스틸 그레이, 코어i7, 512GB, 16GB...</td>\n",
       "      <td>#product1_detail.html</td>\n",
       "      <td>1419000</td>\n",
       "    </tr>\n",
       "    <tr>\n",
       "      <th>1</th>\n",
       "      <td>노트북</td>\n",
       "      <td>삼성전자 노트북 플러스2 15.6, 퓨어 화이트, NT550XDA-K24AT, 펜티...</td>\n",
       "      <td>#product2_detail.html</td>\n",
       "      <td>549000</td>\n",
       "    </tr>\n",
       "    <tr>\n",
       "      <th>2</th>\n",
       "      <td>노트북</td>\n",
       "      <td>레노버 아이디어패드 슬림 1 15AMN7 15.6, 256GB, Free DOS, ...</td>\n",
       "      <td>#product3_detail.html</td>\n",
       "      <td>529000</td>\n",
       "    </tr>\n",
       "    <tr>\n",
       "      <th>3</th>\n",
       "      <td>노트북</td>\n",
       "      <td>레노버 V15 G4 AMN 15.6, Arctic Grey, 라이젠3, 256GB,...</td>\n",
       "      <td>#product4_detail.html</td>\n",
       "      <td>624000</td>\n",
       "    </tr>\n",
       "    <tr>\n",
       "      <th>4</th>\n",
       "      <td>노트북</td>\n",
       "      <td>LG 울트라PC 엣지 16, 차콜 그레이, 라이젠5, 256GB, 16GB, WIN...</td>\n",
       "      <td>#product5_detail.html</td>\n",
       "      <td>1135000</td>\n",
       "    </tr>\n",
       "  </tbody>\n",
       "</table>\n",
       "</div>"
      ],
      "text/plain": [
       "  category                                               name  \\\n",
       "0      노트북  에이서 스위프트 GO 16 OLED, 스틸 그레이, 코어i7, 512GB, 16GB...   \n",
       "1      노트북  삼성전자 노트북 플러스2 15.6, 퓨어 화이트, NT550XDA-K24AT, 펜티...   \n",
       "2      노트북  레노버 아이디어패드 슬림 1 15AMN7 15.6, 256GB, Free DOS, ...   \n",
       "3      노트북  레노버 V15 G4 AMN 15.6, Arctic Grey, 라이젠3, 256GB,...   \n",
       "4      노트북  LG 울트라PC 엣지 16, 차콜 그레이, 라이젠5, 256GB, 16GB, WIN...   \n",
       "\n",
       "                    link    price  \n",
       "0  #product1_detail.html  1419000  \n",
       "1  #product2_detail.html   549000  \n",
       "2  #product3_detail.html   529000  \n",
       "3  #product4_detail.html   624000  \n",
       "4  #product5_detail.html  1135000  "
      ]
     },
     "metadata": {},
     "output_type": "display_data"
    }
   ],
   "source": [
    "import pandas as pd\n",
    "\n",
    "df = pd.DataFrame(data, columns = ['category','name','link','price'])\n",
    "df.head()"
   ]
  },
  {
   "cell_type": "code",
   "execution_count": null,
   "metadata": {},
   "outputs": [],
   "source": [
    "# UTF-8 인코딩으로 데이터프레임을 CSV 파일로 저장하는데, 이때 UTF-8 BOM을 포함하여 저장\n",
    "df.to_csv('result.csv',encoding='utf-8-sig',index=False)"
   ]
  }
 ],
 "metadata": {
  "language_info": {
   "name": "python"
  }
 },
 "nbformat": 4,
 "nbformat_minor": 2
}
