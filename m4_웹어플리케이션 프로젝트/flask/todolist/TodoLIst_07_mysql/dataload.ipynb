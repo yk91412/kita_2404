{
 "cells": [
  {
   "cell_type": "code",
   "execution_count": 2,
   "metadata": {},
   "outputs": [],
   "source": [
    "# MYsql  데이터베이스 연결 설정\n",
    "import pymysql\n",
    "\n",
    "connection = pymysql.connect(\n",
    "    host='localhost',\n",
    "    user='user1',\n",
    "    password='user1',\n",
    "    database='user1_db'\n",
    ")\n",
    "\n",
    "cursor=connection.cursor()\n"
   ]
  },
  {
   "cell_type": "code",
   "execution_count": 18,
   "metadata": {},
   "outputs": [],
   "source": [
    "# 테이블 생성\n",
    "\n",
    "# auto_increment 속성을 가진 컬럼은 새로운 데이터가 입력 될 때 자동으로 1씩 증가된 값이 저장\n",
    "\n",
    "create_table_query = \"\"\"\n",
    "CREATE TABLE IF NOT EXISTS customer(\n",
    "id INT AUTO_INCREMENT PRIMARY KEY,\n",
    "username VARCHAR(50) NOT NULL,\n",
    "email VARCHAR(100) NOT NULL,\n",
    "age INT\n",
    ")\"\"\"\n",
    "\n",
    "cursor.execute(create_table_query)\n",
    "connection.commit()"
   ]
  },
  {
   "cell_type": "code",
   "execution_count": 19,
   "metadata": {},
   "outputs": [],
   "source": [
    "# 컬럼추가\n",
    "# 이 컬럼은 TIMESTAMP 데이터 타입을 가지며, 기본값으로 현재 타임스탬프가 설정 즉, 새로운 레코드가 삽입될 때 자동으로 현재 시간이 기록됩니다\n",
    "alter_table_query = \"ALTER TABLE customer ADD COLUMN created_at TIMESTAMP DEFAULT CURRENT_TIMESTAMP\"\n",
    "cursor.execute(alter_table_query)\n",
    "connection.commit()"
   ]
  },
  {
   "cell_type": "code",
   "execution_count": 13,
   "metadata": {},
   "outputs": [],
   "source": [
    "# NOT NULL 제약조건 추가\n",
    "alter_table_query = \"ALTER TABLE customer MODIFY email VARCHAR(100)\"\n",
    "cursor.execute(alter_table_query)\n",
    "connection.commit()"
   ]
  },
  {
   "cell_type": "code",
   "execution_count": 16,
   "metadata": {},
   "outputs": [],
   "source": [
    "# 테이블 삭제\n",
    "drop_table_query = \"DROP TABLE IF EXISTS customer\"\n",
    "cursor.execute(drop_table_query)\n",
    "connection.commit()"
   ]
  },
  {
   "cell_type": "code",
   "execution_count": 22,
   "metadata": {},
   "outputs": [],
   "source": [
    "# 테이블 입력\n",
    "insert_query = \"INSERT INTO customer (username, email, age) VALUES (%s, %s, %s)\"\n",
    "data = (\"john_doe\",\"john@example.com\",30)\n",
    "cursor.execute(insert_query,data)\n",
    "connection.commit()"
   ]
  },
  {
   "cell_type": "code",
   "execution_count": null,
   "metadata": {},
   "outputs": [],
   "source": [
    "# 데이터 수정\n",
    "# % => 자리 표시자\n",
    "update_query = \"UPDATE customer SET age = %s WEHRE username =%s\"\n",
    "cursor.execute(update_query, (31,\"john_doe\"))\n",
    "connection.commit()"
   ]
  },
  {
   "cell_type": "code",
   "execution_count": 28,
   "metadata": {},
   "outputs": [],
   "source": [
    "# 테이블 조회\n",
    "select_query = \"SELECT * FROM customer\"\n",
    "cursor.execute(select_query)\n",
    "results = cursor.fetchall()\n",
    "for row in results:\n",
    "    print(row)"
   ]
  },
  {
   "cell_type": "code",
   "execution_count": null,
   "metadata": {},
   "outputs": [],
   "source": [
    "#  연결 종료\n",
    "cursor.close()\n",
    "connection.close()"
   ]
  },
  {
   "cell_type": "code",
   "execution_count": 27,
   "metadata": {},
   "outputs": [],
   "source": [
    "# 데이터 삭제\n",
    "delete_query = \"DELETE FROM customer WHERE username=%s\"\n",
    "cursor.execute(delete_query,(\"john_doe\"))\n",
    "connection.commit()"
   ]
  },
  {
   "cell_type": "code",
   "execution_count": 29,
   "metadata": {},
   "outputs": [],
   "source": [
    "# 데이터 반복 삽입\n",
    "customers = [\n",
    "    (\"alice\",\"alice@example.com\",25),\n",
    "    (\"bob\",\"bob@example.com\",28),\n",
    "    (\"charlie\",\"charlie@example.com\",22)\n",
    "]\n",
    "\n",
    "cursor.executemany(insert_query,customers)\n",
    "connection.commit()"
   ]
  },
  {
   "cell_type": "code",
   "execution_count": 30,
   "metadata": {},
   "outputs": [
    {
     "name": "stdout",
     "output_type": "stream",
     "text": [
      "(3, 'alice', 'alice@example.com', 25, datetime.datetime(2024, 7, 15, 12, 20, 44))\n",
      "(4, 'bob', 'bob@example.com', 28, datetime.datetime(2024, 7, 15, 12, 20, 44))\n",
      "(5, 'charlie', 'charlie@example.com', 22, datetime.datetime(2024, 7, 15, 12, 20, 44))\n"
     ]
    }
   ],
   "source": [
    "select_query = \"SELECT * FROM customer\"\n",
    "cursor.execute(select_query)\n",
    "results = cursor.fetchall()\n",
    "for row in results:\n",
    "    print(row)"
   ]
  },
  {
   "cell_type": "code",
   "execution_count": 32,
   "metadata": {},
   "outputs": [
    {
     "name": "stdout",
     "output_type": "stream",
     "text": [
      "   id username                email  age          created_at\n",
      "0   3    alice    alice@example.com   25 2024-07-15 12:20:44\n",
      "1   4      bob      bob@example.com   28 2024-07-15 12:20:44\n",
      "2   5  charlie  charlie@example.com   22 2024-07-15 12:20:44\n"
     ]
    }
   ],
   "source": [
    "# 결과를 데이터프레임으로 변환\n",
    "import pandas as pd\n",
    "\n",
    "column_names = [desc[0] for desc in cursor.description]\n",
    "\n",
    "df = pd.DataFrame(results, columns=column_names)\n",
    "\n",
    "print(df)"
   ]
  },
  {
   "cell_type": "code",
   "execution_count": 33,
   "metadata": {},
   "outputs": [],
   "source": [
    "# 데이터프레임을 csv로 저장\n",
    "df.to_csv('customers.csv',index=False)\n"
   ]
  },
  {
   "cell_type": "code",
   "execution_count": 34,
   "metadata": {},
   "outputs": [],
   "source": [
    "# buyer 테이블 생성\n",
    "create_table_query = \"\"\"\n",
    "CREATE TABLE IF NOT EXISTS buyer(\n",
    "id INT AUTO_INCREMENT PRIMARY KEY,\n",
    "username VARCHAR(50) NOT NULL,\n",
    "email VARCHAR(100) NOT NULL,\n",
    "age INT,\n",
    "created_at TIMESTAMP DEFAULT CURRENT_TIMESTAMP)\n",
    "\n",
    "\"\"\"\n",
    "cursor.execute(create_table_query)\n",
    "connection.commit()"
   ]
  },
  {
   "cell_type": "code",
   "execution_count": 36,
   "metadata": {},
   "outputs": [],
   "source": [
    "# csv 파일 읽어서 데이터베이스에 삽입\n",
    "\n",
    "import csv\n",
    "\n",
    "file_path = 'customers.csv'\n",
    "df = pd.read_csv(file_path)\n",
    "\n",
    "# 필요한 컬럼만 선택\n",
    "data_to_insert = df[['username','email','age']].values.tolist()\n",
    "\n",
    "# sql 쿼리 정의\n",
    "insert_query = \"INSERT INTO buyer (username, email,age) VALUES (%s, %s,%s)\"\n",
    "\n",
    "# db에 삽입\n",
    "cursor.executemany(insert_query, data_to_insert)\n",
    "connection.commit()"
   ]
  },
  {
   "cell_type": "code",
   "execution_count": 37,
   "metadata": {},
   "outputs": [
    {
     "name": "stdout",
     "output_type": "stream",
     "text": [
      "   id username                email  age          created_at\n",
      "0   1    alice    alice@example.com   25 2024-07-15 12:40:17\n",
      "1   2      bob      bob@example.com   28 2024-07-15 12:40:17\n",
      "2   3  charlie  charlie@example.com   22 2024-07-15 12:40:17\n"
     ]
    }
   ],
   "source": [
    "# 데이터 조회 및  dataframe  변환\n",
    "select_query = \"SELECT * FROM buyer\"\n",
    "cursor.execute(select_query)\n",
    "results = cursor.fetchall()\n",
    "\n",
    "column_names = [desc[0] for desc in cursor.description]\n",
    "\n",
    "# dataframe 으로 변환\n",
    "df_results = pd.DataFrame(results, columns=column_names)\n",
    "\n",
    "# dataframe 출력\n",
    "print(df_results)\n",
    "\n",
    "# 연결종료\n",
    "cursor.close()\n",
    "connection.close()"
   ]
  }
 ],
 "metadata": {
  "kernelspec": {
   "display_name": "myenv",
   "language": "python",
   "name": "python3"
  },
  "language_info": {
   "codemirror_mode": {
    "name": "ipython",
    "version": 3
   },
   "file_extension": ".py",
   "mimetype": "text/x-python",
   "name": "python",
   "nbconvert_exporter": "python",
   "pygments_lexer": "ipython3",
   "version": "3.10.11"
  }
 },
 "nbformat": 4,
 "nbformat_minor": 2
}
